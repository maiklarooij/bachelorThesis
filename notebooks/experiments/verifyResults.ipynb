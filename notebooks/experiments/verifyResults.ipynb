{
 "cells": [
  {
   "cell_type": "code",
   "execution_count": 1,
   "metadata": {},
   "outputs": [],
   "source": [
    "import json\n",
    "import re"
   ]
  },
  {
   "cell_type": "code",
   "execution_count": 17,
   "metadata": {},
   "outputs": [],
   "source": [
    "# Calculates accurateness of Whisper ASR\n",
    "\n",
    "# Normalizes the text by removing punctuation and converting to lowercase.\n",
    "def normalize_text(text):\n",
    "    text = re.sub(r\"[^\\w\\s]\", \"\", text)\n",
    "    text = text.lower()\n",
    "    return text\n",
    "\n",
    "\n",
    "# Calculates the Word Error Rate (WER).\n",
    "def wer(reference, hypothesis):\n",
    "    ref_words = normalize_text(reference).split()\n",
    "    hyp_words = normalize_text(hypothesis).split()\n",
    "\n",
    "    # Initializes matrix\n",
    "    d = [[0] * (len(hyp_words) + 1) for _ in range(len(ref_words) + 1)]\n",
    "\n",
    "    # Fills the first row and column of the matrix\n",
    "    for i in range(len(ref_words) + 1):\n",
    "        d[i][0] = i\n",
    "    for j in range(len(hyp_words) + 1):\n",
    "        d[0][j] = j\n",
    "\n",
    "    # Populates matrix\n",
    "    for i in range(1, len(ref_words) + 1):\n",
    "        for j in range(1, len(hyp_words) + 1):\n",
    "            if ref_words[i - 1] == hyp_words[j - 1]:\n",
    "                d[i][j] = d[i - 1][j - 1]\n",
    "            else:\n",
    "                substitution = d[i - 1][j - 1] + 1\n",
    "                insertion = d[i][j - 1] + 1\n",
    "                deletion = d[i - 1][j] + 1\n",
    "                d[i][j] = min(substitution, insertion, deletion)\n",
    "\n",
    "    # The WER is the number of edits divided by the number of words in the reference\n",
    "    wer_value = d[len(ref_words)][len(hyp_words)] / len(ref_words)\n",
    "\n",
    "    return wer_value"
   ]
  },
  {
   "cell_type": "code",
   "execution_count": 20,
   "metadata": {},
   "outputs": [
    {
     "name": "stdout",
     "output_type": "stream",
     "text": [
      "WER: 0.15\n",
      "WER: 0.20\n",
      "WER: 0.17\n"
     ]
    }
   ],
   "source": [
    "# Haarlem - 2016 - 246556.mp4 - 36:07\n",
    "ref = \"Als er iemand stemming vraagt overigens. Als niemand stemming vraagt. Ja, wel vanuit de SP wordt dat gevraagd. Wie in de regio? Dat is dat gevraagd. Wie is voor dit beleidskader? Nou had ik beter eerst kunnen vragen wie tegen was. 5, 6, 7, 8, 9, 10, 11, 12, 13, 14, 15, 16, 17, 18, 19, 20. Ik zie de SP die stemt niet voor. Even kijken. Ja, de rest wel. Dus met stemmen van de SP tegen is het aangenomen. Dan gaan wij naar agenda punt 9. Dat is het on-eigelijk gebruik van gemeentegrond. Ik heb begrepen dat er wat punten zijn aangepast na de behandeling in de commissie. Maar dat de wethouder nog even een toevoeging heeft op die aanpassingen. De heer ~~Bottigen~~. Meneer de voorzitter. Er is in de stukken een fout geslopen in het collegebesluit. Wat als raadsbesluit staat. Daar wordt wel gesproken over dat het gaat over 2,2 miljoen verdeeld over 10 jaar. Maar dat dat per jaar wordt vastgesteld. Maar in het raadsbesluit is dat verkeerd opgenomen. Dus de tekst van het stuk van het raadsbesluit. Het is zo dat eigenlijk daarmee die motie die is ingediend op dit vlak. Of het abonnement. Waarbij staat dat er gedurende het bedrag van de kadernoten van vier jaar. En dat dan per jaar wordt gekeken of dat bedrag ingezet kan worden. Dat is ook de formulering zoals het college die heeft gedaan. Alleen die is in het raadsvoorstel onvoldoende of niet verwerkt. Dus we zijn het eens met elkaar. Waarbij wel de kanttekening overigens dat het geen zin heeft om bijvoorbeeld volgend jaar al te zeggen. Van we hebben het een jaartje geprobeerd en het werkt niet\"\n",
    "hyp = \"Als er iemand stemming vraagt overigens. Als niemand stemming vraagt - Ja Wel vanuit de SP wordt dat gevraagd. Wie is voor dit (beleidskader)? Ja... Nou had ik beter eerst kunnen vragen wie tegen was geloof ik. 4 5 6 7 8 9 10 11 12 13 14 15 16 17. Ik zie de SP die stemt niet voor en even kijken ja de rest wel dus dat is allen met stemmen van de SP tegen is dat aangenomen. Dan gaan wij naar agenda punt 9. Dat is het oneigenlijk gebruik van gemeente grond. Ehm ik heb begrepen dat er wat punten zijn aangepast na de behandleing in de commisie maar dat de wethouder nog even een toevoeging heeft op die aapassingen. de hoor botter. Meneer de voorzitter er is in de stukken een fout geslopen in het college besluit wat  als raadsbesluit staat er wordt wel gesproken over dat het gaat over 2 komma 2 miljoen verdeeld over tien jaar maar dat dat per jaar wordt vastgesteld maar in het raadsbesluit is dat verkeerd opgenomen. Dus de tekst van het stuk van het raadsbesluit het is zo dat eigenlijk daarmee die motie die is ingediend op dit vlak of het abonnement waarbij staat dat er gedurende het bedrag nu van de kader noten van de vier jaar en dat dan per jaar wordt gekeken of dat bedrag ingezet kan worden, dat is ook de zeg maar de formulering zoals het college die heeft gedaan. Alleen die is in het raadsvoorstel onvoldoende of niet verwerkt. Dus we zijn het eens met elkaar. Waarbij wel de kanttekening overigens dat het geen zin heeft  om bijvoorbeeld volgend jaar al te zeggen van we hebben het een jaartje geprobeerd en het werkt niet.\"\n",
    "error_rate = wer(ref, hyp)\n",
    "print(f\"WER: {error_rate:.2f}\")\n",
    "\n",
    "# Haarlem - 2019 - 622012.mp4 - 1:46:45\n",
    "ref = \"Dank u wel. De heer Visser, Christen Unie. Dank u wel, voorzitter. Wat betreft de oude stukken die opnieuw geheim verklaaren kunnen wij akkoord gaan omdat het college zegt daar doen we een deadline op. Zo snel mogelijk in het najaar gaan we er opnieuw over hebben. Wat betreft het PWC-rapport is niet vanaf vandaag het openbaar met uitzondering van de weggelakte delen. Dus dat is ook mooi. Wat betreft dateterrein ben ik toch een beetje benieuwd naar de reactie van het college. ~~En~~ ik heb inderdaad ook het gevoel dat we vanavond toch al op ~~het zuid~~ gaan komen. Dus waarom zouden we dat nu nog geheim verklaaren? Ik ben er niet van overtuigd wat daar het argument voor is. Dus ik zou daar eigenlijk een kort antwoord van het college op willen. ~~Het is tot en~~ met \\u00e9\\u00e9n ding niet akkoord. Al was het maar voor de symboolwerking. Maar bijlagen zeven bij de gedemd oudergeracht de uitgiftetekening. Ik heb net al gezegd ik vind het compleet een ~~nonsens~~ om zo'n tekening geheim te verklaren. Het college mag me wel eens uitleggen waarom dat geheim zou moeten zijn. Dank u wel. De heer van de Raad. Ja, voorzitter. Wij gaan niet akkoord met stukken die binnen 24 uur zijn ingevoerd. Dat hebben we bij het seniorenconvental aangegeven dat we daar niet meer van gediend zijn. Voor de rest heeft u gevraagd om alles in \\u00e9\\u00e9n keer te behandelen. U heeft ook gezegd alles komt terug. Dus u behandelt alles in een keer en het feit dat het terugkomt vinden wij dat niks geheim verklaard hoeft te worden. Dank u.\"\n",
    "hyp = \"Dank u wel. De heer visser, christen unie. Dank u wel voorzitter, wat betreft de oude stukken die opnieuw geheim verklaren kunnen wij akkoord gaan omdat het college zegt daar doen we een deadline op he, zo snel mogelijk in het najaar gaan we het er opnieuw over hebben. wat betreft pwc rapport is in ieder geval vanaf vandaag openbaar met uitzondering van de weggelakte delen. Dus dat is ook mooi. Wat betreft D-terrein  ben ik toch een beetje benieuwd naar de reactie van het college want ik heb inderdaad ook het gevoel er wordt vanavond gewoon een besluit genomen dus waarom zouden we dat nu nog geheim verklaren. Ik ben er niet van overtuigd wat daar het argument van is. Dus ik zou daar eigenlijk een kort antwoord van het college op willen. En tenslotte ga ik met 1 ding niet akkoord, al was het maar voor de symbool werking. Maar bijlage 7 bij de <> uitgifte tekening. Ik heb het net al gezegd, ik vind het complete onzin om zo'n tekening geheim te verklaren. college mag mij wel eens uitleggen waarom dat geheim zou moeten zijn. Dank u wel. de heer van de raad. ja voorzitter we gaan niet akkoord met stukken die binnen 24 uur zijn ingevoerd dat hebben we bij het senioren conferent al aangegeven dat we daar niet meer van gediend zijn. En voor de rest heeft u gevraaagd om alles in 1 keer te behandelen en u heeft ook gezegd alles komt terug, dus ik behandel alles in 1 keer, en het feit dat het terug komt vinden wij dat niks geheim verklaar hoeft te worden dank u.\"\n",
    "error_rate = wer(ref, hyp)\n",
    "print(f\"WER: {error_rate:.2f}\")\n",
    "\n",
    "# Haarlem - 2024 - 1159903.mp4 - 8:10\n",
    "ref = \"Maar dat heeft niks te maken op zich met het referendum. Dan kan het college bevestigen dat er altijd bezwaar en beroep mogelijk is. Dat klopt niet, want in een aantal gevallen is er helemaal geen verkeersbesluit voor nodig. Iets wat niet legaal is, als je dat op een gegeven moment gaat niet meer gedoogd, dan neem je geen nieuw verkeersbesluit, want het was al illegaal. Dat moet je wel heel duidelijk markeren, ~~want~~ we gaan daar nu op een andere manier mee om. Ik heb al gezegd dat gebeurt alleen als er voldoende parkeerplaatsen beschikbaar zijn om de mensen met een vergunning te laten parkeren. In die situaties waarbij gelegaliseerd parkeren wordt opgeheven, daar is wel een parkeerbesluit voor en dat zal natuurlijk de gewone procedure doorlopen. Het opheffen van parkeerplaatsen, daarvoor geldt ook het reguliere participatie- en inspraakproject als dat zou gebeuren. Dan de vraag over de website. We proberen te voorkomen dat je de website vol stopt met informatie, maar nu dit zozeer een issue is\"\n",
    "hyp = \"Maar dat heeft niks te maken op zich, met het referendum. Dan, kan het college bevestigen dat er altijd bezwaer en beroep mogelijk is. Dat klopt niet want in een aantal gevallen is er helemaal geen verkeersbesluit voor nodig. Iets wat niet legaal is, als je dat op een gegeven moment niet meer gedoogt dan neem je geen nieuw verkeersbesluit want het was al illegaal. Dan moet je natuurlijk wel heel duidelijk markeren van we gaan daar nu op een andere manier mee om en ik heb al gezegd dat gebeurt alleen als daar ook de ruimte voor is, als er dus voldoende verkeersplaatsen beschikbaar zijn om de mensen met een vergunning ook te laten parkeren. En in die situaties waarbij gelegaliseerd parkeren wordt opgeheven daar is wel een parkeer besluit voor en dat zal natuurlijk de gewone procedure doorlopen en het opheffen van parkeer plaatsen daarvoor geldt ook gewoon het reguliere participatie en inspraak project als dat zou gebeuren. dan de vraag over de website we proberen te voorkomen dat je de website volstopt met informatie maar nu dit zozeer een issue is \"\n",
    "error_rate = wer(ref, hyp)\n",
    "print(f\"WER: {error_rate:.2f}\")"
   ]
  },
  {
   "cell_type": "code",
   "execution_count": 10,
   "metadata": {},
   "outputs": [],
   "source": [
    "# Calculates accurateness of pyannote speaker diarisation\n",
    "\n",
    "# Calculates the overlapping duration between two time segments.\n",
    "def calculate_overlap(segment1, segment2):\n",
    "    start1, end1 = segment1\n",
    "    start2, end2 = segment2\n",
    "    overlap_start = max(start1, start2)\n",
    "    overlap_end = min(end1, end2)\n",
    "    overlap = max(0, overlap_end - overlap_start)\n",
    "    return overlap\n",
    "\n",
    "\n",
    "# Calculates the Diarisation Error Rate (DER).\n",
    "def der(ground_truth, hypothesis):\n",
    "    total_time = 0\n",
    "    missed_speech = 0\n",
    "    false_alarm = 0\n",
    "    speaker_error = 0\n",
    "\n",
    "    for gt_start, gt_end, gt_speaker in ground_truth:\n",
    "        total_time += gt_end - gt_start\n",
    "        matched = False\n",
    "        for hyp_start, hyp_end, hyp_speaker in hypothesis:\n",
    "            overlap = calculate_overlap((gt_start, gt_end), (hyp_start, hyp_end))\n",
    "            if overlap > 0:\n",
    "                matched = True\n",
    "                if gt_speaker != hyp_speaker:\n",
    "                    speaker_error += overlap\n",
    "        if not matched:\n",
    "            missed_speech += gt_end - gt_start\n",
    "\n",
    "    for hyp_start, hyp_end, hyp_speaker in hypothesis:\n",
    "        matched = False\n",
    "        for gt_start, gt_end, gt_speaker in ground_truth:\n",
    "            overlap = calculate_overlap((gt_start, gt_end), (hyp_start, hyp_end))\n",
    "            if overlap > 0:\n",
    "                matched = True\n",
    "        if not matched:\n",
    "            false_alarm += hyp_end - hyp_start\n",
    "\n",
    "    der = (missed_speech + false_alarm + speaker_error) / total_time\n",
    "\n",
    "    return der\n"
   ]
  },
  {
   "cell_type": "code",
   "execution_count": 8,
   "metadata": {},
   "outputs": [],
   "source": [
    "START = 3\n",
    "DUR = 4\n",
    "SPEAKER = 7\n",
    "\n",
    "\n",
    "def get_ref_segments(filepath, start_time, end_time):\n",
    "    segments = []\n",
    "    with open(filepath, \"r\") as f:\n",
    "        for line in f:\n",
    "            info = line.strip().replace(\"\\n\", \"\").split()\n",
    "            start_segm = float(info[START])\n",
    "            end_segm = float(info[START]) + float(info[DUR])\n",
    "            if start_segm >= start_time and end_segm <= end_time:\n",
    "                # TODO: maybe round to nearest half second since VLC does not provide millisecond view\n",
    "                segments.append((start_segm, end_segm, info[SPEAKER]))\n",
    "\n",
    "    return segments\n",
    "\n",
    "\n",
    "def get_hyp_segments(filepath):\n",
    "    data_path = \"diar_data.json\"\n",
    "    with open(data_path, \"r\") as f:\n",
    "        data = json.load(f)\n",
    "\n",
    "    for entry in data:\n",
    "        if entry[\"file\"] == filepath:\n",
    "            return [tuple(e) for e in entry[\"data\"]]\n",
    "\n",
    "    print(f\"{filepath} not found in {data_path}\")"
   ]
  },
  {
   "cell_type": "code",
   "execution_count": 11,
   "metadata": {},
   "outputs": [
    {
     "name": "stdout",
     "output_type": "stream",
     "text": [
      "[(3208.599, 3211.163, 'SPEAKER_14'), (3214.202, 3215.849, 'SPEAKER_14'), (3216.562, 3217.462, 'SPEAKER_14'), (3217.937, 3220.45, 'SPEAKER_14'), (3221.214, 3223.71, 'SPEAKER_14'), (3225.255, 3235.527, 'SPEAKER_14'), (3236.138, 3241.86, 'SPEAKER_14'), (3242.165, 3248.294, 'SPEAKER_14'), (3248.922, 3252.216, 'SPEAKER_14'), (3252.691, 3259.941, 'SPEAKER_14'), (3261.35, 3261.927, 'SPEAKER_14'), (3262.572, 3264.983, 'SPEAKER_14'), (3266.613, 3269.448, 'SPEAKER_14'), (3269.822, 3286.223, 'SPEAKER_14'), (3286.8, 3289.2960000000003, 'SPEAKER_14'), (3290.144, 3290.908, 'SPEAKER_14'), (3292.725, 3294.151, 'SPEAKER_14'), (3295.255, 3296.1890000000003, 'SPEAKER_14'), (3296.375, 3298.344, 'SPEAKER_14')]\n",
      "[(3208.576, 3211.101, 'SPEAKER_14'), (3214.199, 3215.964, 'SPEAKER_14'), (3216.612, 3217.574, 'SPEAKER_14'), (3217.975, 3220.5, 'SPEAKER_14'), (3221.189, 3223.756, 'SPEAKER_14'), (3225.248, 3233.525, 'SPEAKER_14'), (3233.927, 3235.39, 'SPEAKER_14'), (3236.208, 3241.587, 'SPEAKER_14'), (3242.276, 3243.481, 'SPEAKER_14'), (3244.012, 3248.301, 'SPEAKER_14'), (3248.946, 3252.145, 'SPEAKER_14'), (3252.748, 3259.992, 'SPEAKER_14'), (3261.326, 3261.9, 'SPEAKER_14'), (3262.589, 3265.027, 'SPEAKER_14'), (3266.62, 3269.388, 'SPEAKER_14'), (3269.847, 3276.403, 'SPEAKER_14'), (3277.049, 3280.979, 'SPEAKER_14'), (3281.481, 3286.144, 'SPEAKER_14'), (3286.818, 3289.371, 'SPEAKER_14'), (3290.103, 3290.906, 'SPEAKER_14'), (3292.642, 3294.148, 'SPEAKER_14'), (3295.253, 3298.366, 'SPEAKER_14'), (3299.815, 3301.421, 'SPEAKER_14')]\n",
      "0.022121212121208805\n"
     ]
    }
   ],
   "source": [
    "filepath = \"/Users/personal/Desktop/scriptie/notebooks/data/nijmegen/100000013/2022/diorizations/80ec1e6a-8c74-4f41-bcc5-6f5f27d48512.wav.rttm\"\n",
    "print(get_ref_segments(filepath, 3208, 3301))\n",
    "\n",
    "print(get_hyp_segments(filepath))\n",
    "\n",
    "print(der(get_ref_segments(filepath, 3208, 3301), get_hyp_segments(filepath)))"
   ]
  }
 ],
 "metadata": {
  "kernelspec": {
   "display_name": "base",
   "language": "python",
   "name": "python3"
  },
  "language_info": {
   "codemirror_mode": {
    "name": "ipython",
    "version": 3
   },
   "file_extension": ".py",
   "mimetype": "text/x-python",
   "name": "python",
   "nbconvert_exporter": "python",
   "pygments_lexer": "ipython3",
   "version": "3.11.8"
  }
 },
 "nbformat": 4,
 "nbformat_minor": 2
}
