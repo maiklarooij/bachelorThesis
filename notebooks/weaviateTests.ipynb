{
 "cells": [
  {
   "cell_type": "code",
   "execution_count": 2,
   "metadata": {},
   "outputs": [],
   "source": [
    "import requests"
   ]
  },
  {
   "cell_type": "code",
   "execution_count": 3,
   "metadata": {},
   "outputs": [],
   "source": [
    "HOST = \"http://127.0.0.1\"\n",
    "PORT = \"3090\"\n",
    "\n",
    "WEAVIATE_ENDPOINT = f\"{HOST}:{PORT}/api/weaviate\""
   ]
  },
  {
   "cell_type": "code",
   "execution_count": 4,
   "metadata": {},
   "outputs": [
    {
     "data": {
      "text/plain": [
       "<Response [200]>"
      ]
     },
     "execution_count": 4,
     "metadata": {},
     "output_type": "execute_result"
    }
   ],
   "source": [
    "requests.get(f\"{WEAVIATE_ENDPOINT}/getInfo\")"
   ]
  },
  {
   "cell_type": "code",
   "execution_count": 9,
   "metadata": {},
   "outputs": [
    {
     "name": "stdout",
     "output_type": "stream",
     "text": [
      "{'status': 'OK', 'collections': {'Transcripts': {'name': 'Transcripts', 'description': None, 'generative_config': None, 'properties': [{'name': 'text', 'description': None, 'data_type': 'text', 'index_filterable': True, 'index_searchable': True, 'nested_properties': None, 'tokenization': 'word', 'vectorizer_config': None, 'vectorizer': 'none'}, {'name': 'bmContext', 'description': None, 'data_type': 'text', 'index_filterable': True, 'index_searchable': True, 'nested_properties': None, 'tokenization': 'word', 'vectorizer_config': None, 'vectorizer': 'none'}, {'name': 'start', 'description': None, 'data_type': 'number', 'index_filterable': True, 'index_searchable': False, 'nested_properties': None, 'tokenization': None, 'vectorizer_config': None, 'vectorizer': 'none'}, {'name': 'end', 'description': None, 'data_type': 'number', 'index_filterable': True, 'index_searchable': False, 'nested_properties': None, 'tokenization': None, 'vectorizer_config': None, 'vectorizer': 'none'}, {'name': 'code', 'description': None, 'data_type': 'text', 'index_filterable': True, 'index_searchable': True, 'nested_properties': None, 'tokenization': 'word', 'vectorizer_config': None, 'vectorizer': 'none'}, {'name': 'year', 'description': None, 'data_type': 'text', 'index_filterable': True, 'index_searchable': True, 'nested_properties': None, 'tokenization': 'word', 'vectorizer_config': None, 'vectorizer': 'none'}, {'name': 'government', 'description': None, 'data_type': 'text', 'index_filterable': True, 'index_searchable': True, 'nested_properties': None, 'tokenization': 'word', 'vectorizer_config': None, 'vectorizer': 'none'}], 'references': [], 'reranker_config': None, 'vectorizer_config': None, 'vectorizer': 'none', 'vector_config': None}}}\n"
     ]
    }
   ],
   "source": [
    "print(requests.get(f\"{WEAVIATE_ENDPOINT}/getCollections\").json())"
   ]
  },
  {
   "cell_type": "code",
   "execution_count": 44,
   "metadata": {},
   "outputs": [
    {
     "data": {
      "text/plain": [
       "<Response [200]>"
      ]
     },
     "execution_count": 44,
     "metadata": {},
     "output_type": "execute_result"
    }
   ],
   "source": [
    "import sys\n",
    "\n",
    "sys.path.append(\"/Users/personal/Desktop/scriptie/src\")\n",
    "\n",
    "requests.post(\n",
    "    f\"{WEAVIATE_ENDPOINT}/createCollection\",\n",
    "    json={\n",
    "        \"name\": \"TestCollection\",\n",
    "        \"vector_index_hnsw\": True,\n",
    "        \"distance_config\": \"cosine\",\n",
    "        \"properties\": [\n",
    "            {\"name\": \"title\", \"data_type\": \"text\"},\n",
    "            {\"name\": \"body\", \"data_type\": \"text\"},\n",
    "        ],\n",
    "    },\n",
    ")"
   ]
  },
  {
   "cell_type": "code",
   "execution_count": 8,
   "metadata": {},
   "outputs": [
    {
     "data": {
      "text/plain": [
       "<Response [200]>"
      ]
     },
     "execution_count": 8,
     "metadata": {},
     "output_type": "execute_result"
    }
   ],
   "source": [
    "requests.post(f\"{WEAVIATE_ENDPOINT}/deleteCollection\")"
   ]
  }
 ],
 "metadata": {
  "kernelspec": {
   "display_name": "base",
   "language": "python",
   "name": "python3"
  },
  "language_info": {
   "codemirror_mode": {
    "name": "ipython",
    "version": 3
   },
   "file_extension": ".py",
   "mimetype": "text/x-python",
   "name": "python",
   "nbconvert_exporter": "python",
   "pygments_lexer": "ipython3",
   "version": "3.11.8"
  }
 },
 "nbformat": 4,
 "nbformat_minor": 2
}
