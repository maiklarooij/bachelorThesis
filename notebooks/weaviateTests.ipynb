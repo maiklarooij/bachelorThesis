{
 "cells": [
  {
   "cell_type": "code",
   "execution_count": null,
   "metadata": {},
   "outputs": [],
   "source": [
    "import requests"
   ]
  },
  {
   "cell_type": "code",
   "execution_count": null,
   "metadata": {},
   "outputs": [],
   "source": [
    "HOST = \"http://127.0.0.1\"\n",
    "PORT = \"3012\"\n",
    "\n",
    "WEAVIATE_ENDPOINT = f\"{HOST}:{PORT}/api/weaviate\""
   ]
  },
  {
   "cell_type": "code",
   "execution_count": null,
   "metadata": {},
   "outputs": [],
   "source": [
    "requests.get(f\"{WEAVIATE_ENDPOINT}/getInfo\")"
   ]
  },
  {
   "cell_type": "code",
   "execution_count": null,
   "metadata": {},
   "outputs": [],
   "source": [
    "print(requests.get(f\"{WEAVIATE_ENDPOINT}/getCollections\").json())"
   ]
  },
  {
   "cell_type": "code",
   "execution_count": null,
   "metadata": {},
   "outputs": [],
   "source": [
    "import sys\n",
    "\n",
    "sys.path.append(\"/Users/personal/Desktop/scriptie/src\")\n",
    "\n",
    "requests.post(\n",
    "    f\"{WEAVIATE_ENDPOINT}/createCollection\",\n",
    "    json={\n",
    "        \"name\": \"TestCollection\",\n",
    "        \"vector_index_hnsw\": True,\n",
    "        \"distance_config\": \"cosine\",\n",
    "        \"properties\": [\n",
    "            {\"name\": \"title\", \"data_type\": \"text\"},\n",
    "            {\"name\": \"body\", \"data_type\": \"text\"},\n",
    "        ],\n",
    "    },\n",
    ")"
   ]
  },
  {
   "cell_type": "code",
   "execution_count": null,
   "metadata": {},
   "outputs": [],
   "source": [
    "requests.post(f\"{WEAVIATE_ENDPOINT}/deleteCollection\", json={\"collection\": \"TranscriptsV2\"})"
   ]
  }
 ],
 "metadata": {
  "kernelspec": {
   "display_name": "base",
   "language": "python",
   "name": "python3"
  },
  "language_info": {
   "codemirror_mode": {
    "name": "ipython",
    "version": 3
   },
   "file_extension": ".py",
   "mimetype": "text/x-python",
   "name": "python",
   "nbconvert_exporter": "python",
   "pygments_lexer": "ipython3",
   "version": "3.11.8"
  }
 },
 "nbformat": 4,
 "nbformat_minor": 2
}
