{
 "cells": [
  {
   "cell_type": "code",
   "execution_count": 1,
   "metadata": {},
   "outputs": [],
   "source": [
    "import os\n",
    "import requests\n",
    "import time"
   ]
  },
  {
   "cell_type": "code",
   "execution_count": 2,
   "metadata": {},
   "outputs": [],
   "source": [
    "HOST = \"http://127.0.0.1\"\n",
    "PORT = \"3011\"\n",
    "\n",
    "TRANSCRIBE_ENDPOINT = f\"{HOST}:{PORT}/api/whisper/transcribe\""
   ]
  },
  {
   "cell_type": "code",
   "execution_count": 3,
   "metadata": {},
   "outputs": [],
   "source": [
    "def transcribe(input_path, output_path):\n",
    "    body = {\n",
    "        \"input_path\": input_path,\n",
    "        \"output_path\": output_path\n",
    "    }\n",
    "    r = requests.post(TRANSCRIBE_ENDPOINT, json=body)\n",
    "    if r.status_code != 200:\n",
    "        print(f\"{input_path} transcription failed: {r.status_code}\")\n"
   ]
  },
  {
   "cell_type": "code",
   "execution_count": 5,
   "metadata": {},
   "outputs": [
    {
     "name": "stdout",
     "output_type": "stream",
     "text": [
      "Doing category 100000013, year 2022\n",
      "Transcribing /Users/personal/Desktop/scriptie/notebooks/data/nijmegen/100000013/2022/videos/e67f9762-ec69-4072-b4b8-4318d953527a.mp4\n",
      "Done, took 493.2371780872345 seconds\n",
      "Transcribing /Users/personal/Desktop/scriptie/notebooks/data/nijmegen/100000013/2022/videos/3ab6f8ae-5abc-45dc-ba1c-0ac4eac58a50.mp4\n",
      "Done, took 859.9876699447632 seconds\n",
      "Transcribing /Users/personal/Desktop/scriptie/notebooks/data/nijmegen/100000013/2022/videos/ce5081c9-78af-4b96-b15c-aaaae225948f.mp4\n"
     ]
    }
   ],
   "source": [
    "BASE_PATH = \"data/nijmegen/\"\n",
    "\n",
    "for meeting_type in os.listdir(BASE_PATH):\n",
    "    if meeting_type.startswith(\".\"):\n",
    "        continue\n",
    "    for year in os.listdir(f\"{BASE_PATH}/{meeting_type}\"):\n",
    "        PATH = f\"{BASE_PATH}/{meeting_type}\"\n",
    "        print(f\"Doing category {meeting_type}, year {year}\")\n",
    "        if year.startswith(\".\") or (not os.path.isdir(f\"{PATH}/{year}/videos\")):\n",
    "            continue\n",
    "\n",
    "        if not os.path.isdir(f\"{PATH}/{year}/transcripts\"):\n",
    "            os.mkdir(f\"{PATH}/{year}/transcripts\")\n",
    "\n",
    "        for video in os.listdir(f\"{PATH}/{year}/videos\"):\n",
    "            if video.startswith(\".\"):\n",
    "                continue\n",
    "\n",
    "            input_path = os.path.abspath(f\"{PATH}/{year}/videos/{video}\")\n",
    "            if os.path.isfile(input_path):\n",
    "                output_path = os.path.abspath(f\"{PATH}/{year}/transcripts/{video}.json\")\n",
    "\n",
    "                if os.path.isfile(output_path):\n",
    "                    print(f\"{input_path} already transcribed\")\n",
    "                    continue\n",
    "\n",
    "                start = time.time()\n",
    "                print(f\"Transcribing {input_path}\")\n",
    "                transcribe(input_path, output_path)\n",
    "                print(f\"Done, took {time.time()-start} seconds\")\n",
    "            else:\n",
    "                print(f\"{input_path} does not exist\")"
   ]
  }
 ],
 "metadata": {
  "kernelspec": {
   "display_name": "base",
   "language": "python",
   "name": "python3"
  },
  "language_info": {
   "codemirror_mode": {
    "name": "ipython",
    "version": 3
   },
   "file_extension": ".py",
   "mimetype": "text/x-python",
   "name": "python",
   "nbconvert_exporter": "python",
   "pygments_lexer": "ipython3",
   "version": "3.11.8"
  }
 },
 "nbformat": 4,
 "nbformat_minor": 2
}
