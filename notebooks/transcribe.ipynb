{
 "cells": [
  {
   "cell_type": "code",
   "execution_count": 2,
   "metadata": {},
   "outputs": [],
   "source": [
    "import os\n",
    "import requests"
   ]
  },
  {
   "cell_type": "code",
   "execution_count": 3,
   "metadata": {},
   "outputs": [],
   "source": [
    "HOST = \"http://127.0.0.1\"\n",
    "PORT = \"8000\"\n",
    "\n",
    "TRANSCRIBE_ENDPOINT = f\"{HOST}:{PORT}/api/whisper/transcribe\""
   ]
  },
  {
   "cell_type": "code",
   "execution_count": 4,
   "metadata": {},
   "outputs": [],
   "source": [
    "def transcribe(input_path, output_path):\n",
    "    body = {\n",
    "        \"input_path\": input_path,\n",
    "        \"output_path\": output_path\n",
    "    }\n",
    "    r = requests.post(TRANSCRIBE_ENDPOINT, json=body)\n",
    "    if r.status_code != 200:\n",
    "        print(f\"{input_path} transcription failed: {r.status_code}, {r.message}\")\n"
   ]
  },
  {
   "cell_type": "code",
   "execution_count": 10,
   "metadata": {},
   "outputs": [
    {
     "name": "stdout",
     "output_type": "stream",
     "text": [
      "/Users/personal/Desktop/scriptie/notebooks/data/haarlem/2014/videos/101041\n",
      ".mp4 already transcribed\n",
      "/Users/personal/Desktop/scriptie/notebooks/data/haarlem/2014/videos/101057\n",
      ".mp4 already transcribed\n",
      "/Users/personal/Desktop/scriptie/notebooks/data/haarlem/2014/videos/125416\n",
      ".mp4 already transcribed\n"
     ]
    }
   ],
   "source": [
    "BASE_PATH = \"data/haarlem\"\n",
    "\n",
    "for year in os.listdir(BASE_PATH):\n",
    "    if year == \".DS_Store\" or not os.path.isdir(f\"{BASE_PATH}/{year}/videos\"):\n",
    "        continue\n",
    "\n",
    "    if not os.path.isdir(f\"{BASE_PATH}/{year}/transcripts\"):\n",
    "        os.mkdir(f\"{BASE_PATH}/{year}/transcripts\")\n",
    "\n",
    "    for video in os.listdir(f\"{BASE_PATH}/{year}/videos\"):\n",
    "        if video == \".DS_Store\":\n",
    "            continue\n",
    "        input_path = os.path.abspath(f\"{BASE_PATH}/{year}/videos/{video}\")\n",
    "        output_path = os.path.abspath(f\"{BASE_PATH}/{year}/transcripts/{video}.json\")\n",
    "\n",
    "        if os.path.isfile(output_path):\n",
    "            print(f\"{input_path} already transcribed\")\n",
    "            continue\n",
    "\n",
    "        print(f\"Transcribing {input_path}\")\n",
    "        transcribe(input_path, output_path)"
   ]
  }
 ],
 "metadata": {
  "kernelspec": {
   "display_name": "base",
   "language": "python",
   "name": "python3"
  },
  "language_info": {
   "codemirror_mode": {
    "name": "ipython",
    "version": 3
   },
   "file_extension": ".py",
   "mimetype": "text/x-python",
   "name": "python",
   "nbconvert_exporter": "python",
   "pygments_lexer": "ipython3",
   "version": "3.11.8"
  }
 },
 "nbformat": 4,
 "nbformat_minor": 2
}
