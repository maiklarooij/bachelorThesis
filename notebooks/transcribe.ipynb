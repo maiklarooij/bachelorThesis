{
 "cells": [
  {
   "cell_type": "code",
   "execution_count": 5,
   "metadata": {},
   "outputs": [],
   "source": [
    "import os\n",
    "import requests\n",
    "import time"
   ]
  },
  {
   "cell_type": "code",
   "execution_count": 6,
   "metadata": {},
   "outputs": [],
   "source": [
    "HOST = \"http://127.0.0.1\"\n",
    "PORT = \"30078\"\n",
    "\n",
    "TRANSCRIBE_ENDPOINT = f\"{HOST}:{PORT}/api/whisper/transcribe\""
   ]
  },
  {
   "cell_type": "code",
   "execution_count": 7,
   "metadata": {},
   "outputs": [],
   "source": [
    "def transcribe(input_path, output_path):\n",
    "    body = {\n",
    "        \"input_path\": input_path,\n",
    "        \"output_path\": output_path\n",
    "    }\n",
    "    r = requests.post(TRANSCRIBE_ENDPOINT, json=body)\n",
    "    if r.status_code != 200:\n",
    "        print(f\"{input_path} transcription failed: {r.status_code}\")\n"
   ]
  },
  {
   "cell_type": "code",
   "execution_count": 8,
   "metadata": {},
   "outputs": [
    {
     "name": "stdout",
     "output_type": "stream",
     "text": [
      "Doing year 2022\n",
      "Transcribing /Volumes/Samsung_T5/data/barendrecht/vergaderingen/2022/videos/984909.mp4\n",
      "Done, took 502.03219294548035 seconds\n",
      "Transcribing /Volumes/Samsung_T5/data/barendrecht/vergaderingen/2022/videos/1052971.mp4\n",
      "Done, took 765.7776448726654 seconds\n",
      "Transcribing /Volumes/Samsung_T5/data/barendrecht/vergaderingen/2022/videos/1028455.mp4\n",
      "Done, took 1542.1381990909576 seconds\n",
      "Transcribing /Volumes/Samsung_T5/data/barendrecht/vergaderingen/2022/videos/1053379.mp4\n",
      "Done, took 675.2755031585693 seconds\n",
      "Transcribing /Volumes/Samsung_T5/data/barendrecht/vergaderingen/2022/videos/957174.mp4\n"
     ]
    }
   ],
   "source": [
    "BASE_PATH = \"/Volumes/Samsung_T5/data/barendrecht/vergaderingen\"\n",
    "\n",
    "for year in os.listdir(BASE_PATH):\n",
    "    if (\n",
    "        year != \"2024\"\n",
    "        and year != \"2023\"\n",
    "        and year != \"2022\"\n",
    "        and year != \"2021\"\n",
    "        and year != \"2020\"\n",
    "        and year != \"2019\"\n",
    "    ):\n",
    "        continue\n",
    "    print(f\"Doing year {year}\")\n",
    "    if year == \".DS_Store\" or (\n",
    "        not os.path.isdir(f\"{BASE_PATH}/{year}/videos\")\n",
    "        and not os.path.isdir(f\"{BASE_PATH}/{year}/audio\")\n",
    "    ):\n",
    "        continue\n",
    "\n",
    "    if not os.path.isdir(f\"{BASE_PATH}/{year}/transcripts\"):\n",
    "        os.mkdir(f\"{BASE_PATH}/{year}/transcripts\")\n",
    "\n",
    "    for video in os.listdir(f\"{BASE_PATH}/{year}/videos\"):\n",
    "        if video.startswith(\".\"):\n",
    "            continue\n",
    "\n",
    "        input_path = os.path.abspath(f\"{BASE_PATH}/{year}/videos/{video}\")\n",
    "        if os.path.isfile(input_path):\n",
    "            output_path = os.path.abspath(\n",
    "                f\"{BASE_PATH}/{year}/transcripts/{video}.json\"\n",
    "            )\n",
    "\n",
    "            if os.path.isfile(output_path):\n",
    "                print(f\"{input_path} already transcribed\")\n",
    "                continue\n",
    "\n",
    "            start = time.time()\n",
    "            print(f\"Transcribing {input_path}\")\n",
    "            transcribe(input_path, output_path)\n",
    "            print(f\"Done, took {time.time()-start} seconds\")\n",
    "        else:\n",
    "            print(f\"{input_path} does not exist\")\n",
    "    # for audio in os.listdir (f\"{BASE_PATH}/{year}/audio\"):\n",
    "    #     if audio == \".DS_Store\":\n",
    "    #         continue\n",
    "    #     input_path = os.path.abspath(f\"{BASE_PATH}/{year}/audio/{audio}\")\n",
    "    #     if os.path.isfile(input_path):\n",
    "    #         output_path = os.path.abspath(\n",
    "    #             f\"{BASE_PATH}/{year}/transcripts/{audio}.json\"\n",
    "    #         )\n",
    "\n",
    "    #         if os.path.isfile(output_path):\n",
    "    #             print(f\"{input_path} already transcribed\")\n",
    "    #             continue\n",
    "\n",
    "    #         print(f\"Transcribing {input_path}\")\n",
    "    #         transcribe(input_path, output_path)\n",
    "    #         print(f\"Done, took {time.time()-start} seconds\")\n",
    "    #     else:\n",
    "    #         print(f\"{input_path} does not exist\")"
   ]
  }
 ],
 "metadata": {
  "kernelspec": {
   "display_name": "base",
   "language": "python",
   "name": "python3"
  },
  "language_info": {
   "codemirror_mode": {
    "name": "ipython",
    "version": 3
   },
   "file_extension": ".py",
   "mimetype": "text/x-python",
   "name": "python",
   "nbconvert_exporter": "python",
   "pygments_lexer": "ipython3",
   "version": "3.11.8"
  }
 },
 "nbformat": 4,
 "nbformat_minor": 2
}
