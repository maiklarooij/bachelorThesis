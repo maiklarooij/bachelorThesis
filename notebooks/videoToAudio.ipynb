{
 "cells": [
  {
   "cell_type": "code",
   "execution_count": 2,
   "metadata": {},
   "outputs": [],
   "source": [
    "import os\n",
    "import subprocess"
   ]
  },
  {
   "cell_type": "code",
   "execution_count": null,
   "metadata": {},
   "outputs": [],
   "source": [
    "BASE_PATH = \"data/haarlem\"\n",
    "\n",
    "for year in os.listdir(BASE_PATH):\n",
    "    if year == \".DS_Store\" or not os.path.isdir(f\"{BASE_PATH}/{year}/videos\"):\n",
    "        continue\n",
    "\n",
    "    if not os.path.isdir(f\"{BASE_PATH}/{year}/audio\"):\n",
    "        os.mkdir(f\"{BASE_PATH}/{year}/audio\")\n",
    "\n",
    "    for video in os.listdir(f\"{BASE_PATH}/{year}/videos\"):\n",
    "        if video == \".DS_Store\":\n",
    "            continue\n",
    "        input_path = os.path.abspath(f\"{BASE_PATH}/{year}/videos/{video}\")\n",
    "        output_path = os.path.abspath(f\"{BASE_PATH}/{year}/audio/{video}.mp4\")\n",
    "\n",
    "        if os.path.isfile(output_path):\n",
    "            print(f\"{input_path} already converted\")\n",
    "            continue\n",
    "\n",
    "        # Converts video mp4 to audio only mp4.\n",
    "        subprocess.run(\n",
    "            [\n",
    "                \"ffmpeg\",\n",
    "                \"-i\",\n",
    "                input_path,\n",
    "                \"-c\",\n",
    "                \"copy\",\n",
    "                \"-map\",\n",
    "                \"0:a\",\n",
    "                output_path,\n",
    "            ]\n",
    "        )\n",
    "        # Deletes video mp4 to save space.\n",
    "        os.remove(input_path)\n"
   ]
  }
 ],
 "metadata": {
  "kernelspec": {
   "display_name": "base",
   "language": "python",
   "name": "python3"
  },
  "language_info": {
   "codemirror_mode": {
    "name": "ipython",
    "version": 3
   },
   "file_extension": ".py",
   "mimetype": "text/x-python",
   "name": "python",
   "nbconvert_exporter": "python",
   "pygments_lexer": "ipython3",
   "version": "3.11.8"
  }
 },
 "nbformat": 4,
 "nbformat_minor": 2
}
