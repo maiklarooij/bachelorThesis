{
 "cells": [
  {
   "cell_type": "code",
   "execution_count": null,
   "metadata": {},
   "outputs": [],
   "source": [
    "import os\n",
    "import json\n",
    "import requests"
   ]
  },
  {
   "cell_type": "code",
   "execution_count": null,
   "metadata": {},
   "outputs": [],
   "source": [
    "HOST = \"http://127.0.0.1\"\n",
    "PORT = \"3012\"\n",
    "\n",
    "API_ENDPOINT = f\"{HOST}:{PORT}/api\""
   ]
  },
  {
   "cell_type": "code",
   "execution_count": null,
   "metadata": {},
   "outputs": [],
   "source": [
    "gemeente = \"barendrecht\"\n",
    "BASE_PATH = f\"data/{gemeente}/vergaderingen\""
   ]
  },
  {
   "cell_type": "code",
   "execution_count": null,
   "metadata": {},
   "outputs": [],
   "source": [
    "def get_transcript(path):\n",
    "    with open(path, \"r\") as f:\n",
    "        data = json.load(f)\n",
    "\n",
    "    filtered = [{\"text:\": d[\"text\"], \"start:\": d[\"start\"]} for d in data[\"segments\"]]\n",
    "\n",
    "    return filtered\n",
    "\n",
    "def get_agendapunten(path):\n",
    "    with open(path, \"r\") as f:\n",
    "        data = json.load(f)\n",
    "\n",
    "    return [d[\"agendaPoint\"] for d in data]"
   ]
  },
  {
   "cell_type": "code",
   "execution_count": null,
   "metadata": {},
   "outputs": [],
   "source": [
    "def translate_transcript(transcript):\n",
    "    translated = []\n",
    "    for s in transcript:\n",
    "        r = requests.post(f\"{API_ENDPOINT}/translateDE\", json={\"text\": s[\"text\"]})\n",
    "        if r.status_code != 200:\n",
    "            raise Exception(\"Error translating\")\n",
    "\n",
    "        translated.append({\"text\":r.json()[\"text\"], \"start\": s[\"start\"]})\n",
    "\n",
    "    return translated\n",
    "\n",
    "\n",
    "def translate_agendapunten(agenda):\n",
    "    translated = []\n",
    "    for p in agenda:\n",
    "        r = requests.post(f\"{API_ENDPOINT}/translateDE\", json={\"text\": p})\n",
    "        if r.status_code != 200:\n",
    "            raise Exception(\"Error translating\")\n",
    "\n",
    "        translated.append(r.json()[\"text\"])\n",
    "\n",
    "    return translated"
   ]
  },
  {
   "cell_type": "code",
   "execution_count": null,
   "metadata": {},
   "outputs": [],
   "source": [
    "for year in os.listdir(BASE_PATH):\n",
    "    if year.startswith(\".\"):\n",
    "        continue\n",
    "\n",
    "    agenda_dir = f\"{BASE_PATH}/{year}/agendas\"\n",
    "    transcript_dir = f\"{BASE_PATH}/{year}/transcripts\"\n",
    "    if not os.path.isdir(agenda_dir):\n",
    "        print(f\"{agenda_dir} does not exist\")\n",
    "        continue\n",
    "    if not os.path.isdir(transcript_dir):\n",
    "        print(f\"{transcript_dir} does not exist\")\n",
    "        continue\n",
    "\n",
    "    for trans_file in os.listdir(transcript_dir):\n",
    "        agenda_name = trans_file.replace(\".mp4\", \"\")\n",
    "        if not os.path.isfile(f\"{agenda_dir}/agenda_name\"):\n",
    "            print(\"Transcript does exist, but agenda does not\")\n",
    "            continue\n",
    "\n",
    "        # translated_transcript = translate_transcript(\n",
    "        #     get_transcript(f\"{transcript_dir}/trans_file\")\n",
    "        # )\n",
    "        translated_agendapunten = translate_agendapunten(\n",
    "            get_agendapunten(f\"{agenda_dir}/agenda_name\")\n",
    "        )\n",
    "        print(translated_agendapunten)\n",
    "        break\n",
    "        # TODO: Run high context window llm to seperate agendapunten on time."
   ]
  }
 ],
 "metadata": {
  "language_info": {
   "name": "python"
  }
 },
 "nbformat": 4,
 "nbformat_minor": 2
}
