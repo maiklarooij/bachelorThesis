{
 "cells": [
  {
   "cell_type": "code",
   "execution_count": null,
   "metadata": {},
   "outputs": [],
   "source": [
    "import json\n",
    "import os\n",
    "import requests"
   ]
  },
  {
   "cell_type": "code",
   "execution_count": null,
   "metadata": {},
   "outputs": [],
   "source": [
    "HOST = \"http://127.0.0.1\"\n",
    "PORT = \"3012\"\n",
    "\n",
    "WEAVIATE_ENDPOINT = f\"{HOST}:{PORT}/api/weaviate\"\n",
    "EMBED_ENDPOINT = f\"{HOST}:{PORT}/api/embed\"\n",
    "\n",
    "# gemeente = \"ridderkerk\"\n",
    "# BASE_PATH_INIT = f\"/Volumes/Samsung_T5/data/{gemeente}\"\n",
    "\n",
    "# TODO!\n",
    "# gemeente = \"haarlem\"\n",
    "# BASE_PATH_INIT = f\"/Volumes/Drive/data/{gemeente}\"\n",
    "\n",
    "gemeente = \"buren\"\n",
    "BASE_PATH_INIT = f\"/Users/personal/Desktop/scriptie/notebooks/final/{gemeente}\"\n",
    "\n",
    "# gemeente = \"nijmegen\"\n",
    "# BASE_PATH_INIT = f\"/Users/personal/Desktop/scriptie/notebooks/data/{gemeente}\""
   ]
  },
  {
   "cell_type": "code",
   "execution_count": null,
   "metadata": {},
   "outputs": [],
   "source": [
    "# When creating transcript collection, uncomment the named vector config in WeaviateClient.py\n",
    "def create_transcript_collection():\n",
    "    requests.post(\n",
    "        f\"{WEAVIATE_ENDPOINT}/createCollectionTranscripts\",\n",
    "        json={\n",
    "            \"name\": \"TranscriptsV2\",\n",
    "            \"vector_index_hnsw\": True,\n",
    "            \"distance_config\": \"cosine\",\n",
    "            \"properties\": [\n",
    "                {\"name\": \"text\", \"data_type\": \"text\"},\n",
    "                {\"name\": \"start\", \"data_type\": \"number\"},\n",
    "                {\"name\": \"end\", \"data_type\": \"number\"},\n",
    "                {\"name\": \"code\", \"data_type\": \"text\"},\n",
    "                {\"name\": \"year\", \"data_type\": \"text\"},\n",
    "                {\"name\": \"government\", \"data_type\": \"text\"},\n",
    "                {\"name\": \"type\", \"data_type\": \"text\"},\n",
    "                {\"name\": \"speaker\", \"data_type\": \"text\"},\n",
    "            ],\n",
    "        },\n",
    "    )\n",
    "\n",
    "\n",
    "def create_speaker_collection():\n",
    "    requests.post(\n",
    "        f\"{WEAVIATE_ENDPOINT}/createCollection\",\n",
    "        json={\n",
    "            \"name\": \"Speakers\",\n",
    "            \"vector_index_hnsw\": True,\n",
    "            \"distance_config\": \"cosine\",\n",
    "            \"properties\": [\n",
    "                {\"name\": \"government\", \"data_type\": \"text\"},\n",
    "                {\"name\": \"name\", \"data_type\": \"text\"},\n",
    "            ],\n",
    "        },\n",
    "    )"
   ]
  },
  {
   "cell_type": "code",
   "execution_count": null,
   "metadata": {},
   "outputs": [],
   "source": [
    "create_transcript_collection()\n",
    "# create_speaker_collection()"
   ]
  },
  {
   "cell_type": "code",
   "execution_count": null,
   "metadata": {},
   "outputs": [],
   "source": [
    "def get_embedding(text):\n",
    "    body = {\"text\": [text]}\n",
    "    r = requests.post(EMBED_ENDPOINT, json=body)\n",
    "    if not r.status_code == 200:\n",
    "        print(\"Error embedding!\")\n",
    "        raise Exception(\"Error embedding\")\n",
    "\n",
    "    return r.json()[\"embeddings\"][0]"
   ]
  },
  {
   "cell_type": "code",
   "execution_count": null,
   "metadata": {},
   "outputs": [],
   "source": [
    "def add_transcripts():\n",
    "    for meeting_type in os.listdir(BASE_PATH_INIT):\n",
    "        if meeting_type.startswith(\".\"):\n",
    "            continue\n",
    "        BASE_PATH = f\"{BASE_PATH_INIT}/{meeting_type}\"\n",
    "        for year in os.listdir(BASE_PATH):\n",
    "            if year.startswith(\".\"):\n",
    "                continue\n",
    "            if not os.path.isdir(f\"{BASE_PATH}/{year}\") or not os.path.isdir(\n",
    "                f\"{BASE_PATH}/{year}/finalObjects\"\n",
    "            ):\n",
    "                continue\n",
    "            print(\"Doing\", gemeente, meeting_type, year)\n",
    "            for meeting in os.listdir(f\"{BASE_PATH}/{year}/finalObjects\"):\n",
    "                with open(f\"{BASE_PATH}/{year}/finalObjects/{meeting}\", \"r\") as fof:\n",
    "                    try:\n",
    "                        objects_with_embedding = json.load(fof)\n",
    "                    except Exception as e:\n",
    "                        print(f\"Error at: {meeting}\", e)\n",
    "                        continue\n",
    "                    requests.post(\n",
    "                        f\"{WEAVIATE_ENDPOINT}/insert\",\n",
    "                        json={\n",
    "                            \"collection\": \"TranscriptsV2\",\n",
    "                            \"objects\": objects_with_embedding,\n",
    "                        },\n",
    "                    )\n"
   ]
  },
  {
   "cell_type": "code",
   "execution_count": null,
   "metadata": {},
   "outputs": [],
   "source": [
    "add_transcripts()"
   ]
  }
 ],
 "metadata": {
  "kernelspec": {
   "display_name": "base",
   "language": "python",
   "name": "python3"
  },
  "language_info": {
   "codemirror_mode": {
    "name": "ipython",
    "version": 3
   },
   "file_extension": ".py",
   "mimetype": "text/x-python",
   "name": "python",
   "nbconvert_exporter": "python",
   "pygments_lexer": "ipython3",
   "version": "3.11.8"
  }
 },
 "nbformat": 4,
 "nbformat_minor": 2
}
