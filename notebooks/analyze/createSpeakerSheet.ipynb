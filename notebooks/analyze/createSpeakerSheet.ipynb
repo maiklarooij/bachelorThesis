{
 "cells": [
  {
   "cell_type": "code",
   "execution_count": null,
   "metadata": {},
   "outputs": [],
   "source": [
    "import datetime\n",
    "import os\n",
    "import pandas as pd"
   ]
  },
  {
   "cell_type": "code",
   "execution_count": null,
   "metadata": {},
   "outputs": [],
   "source": [
    "BASE_PATH = \"data/nijmegen/\""
   ]
  },
  {
   "cell_type": "code",
   "execution_count": null,
   "metadata": {},
   "outputs": [],
   "source": [
    "def format_seconds(seconds):\n",
    "    duration = datetime.timedelta(seconds=seconds)\n",
    "\n",
    "    # Extract hours, minutes, and seconds from the timedelta object\n",
    "    hours = duration.seconds // 3600\n",
    "    minutes = (duration.seconds % 3600) // 60\n",
    "    seconds = duration.seconds % 60\n",
    "\n",
    "    # Format the time into HH:MM:SS format\n",
    "    formatted_time = \"{:02d}:{:02d}:{:02d}\".format(hours, minutes, seconds)\n",
    "\n",
    "    return formatted_time"
   ]
  },
  {
   "cell_type": "code",
   "execution_count": null,
   "metadata": {},
   "outputs": [],
   "source": [
    "for meeting_type in os.listdir(BASE_PATH):\n",
    "    if meeting_type.startswith(\".\"):\n",
    "        continue\n",
    "    for year in os.listdir(f\"{BASE_PATH}/{meeting_type}\"):\n",
    "        if year.startswith(\".\"):\n",
    "            continue\n",
    "        if not os.path.isdir(f\"{BASE_PATH}/{meeting_type}/{year}/diorizations\"):\n",
    "            continue\n",
    "\n",
    "        for dior in os.listdir(f\"{BASE_PATH}/{meeting_type}/{year}/diorizations\"):\n",
    "            if dior.startswith(\".\"):\n",
    "                continue\n",
    "\n",
    "            start_times = []\n",
    "            durations = []\n",
    "            speaker_ids = []\n",
    "            if not os.path.isdir(f\"{BASE_PATH}/{meeting_type}/{year}/sheets\"):\n",
    "                os.mkdir(f\"{BASE_PATH}/{meeting_type}/{year}/sheets\")\n",
    "\n",
    "            print(f\"Doing {BASE_PATH}/{meeting_type}/{year}/diorizations/{dior}\")\n",
    "            with open(\n",
    "                f\"{BASE_PATH}/{meeting_type}/{year}/diorizations/{dior}\", \"r\"\n",
    "            ) as f:\n",
    "                current_speaker = \"\"\n",
    "                current_speaker_start = 0.0\n",
    "                for line in f:\n",
    "                    parts = line.split()\n",
    "                    start_time = format_seconds(float(parts[3]))\n",
    "                    duration = float(parts[4])\n",
    "                    speaker_id = parts[7]\n",
    "                    if duration < 4:\n",
    "                        continue\n",
    "                    if current_speaker != speaker_id:\n",
    "                        start_times.append(current_speaker_start)\n",
    "                        durations.append(duration)\n",
    "                        speaker_ids.append(current_speaker)\n",
    "                        current_speaker = speaker_id\n",
    "                        current_speaker_start = start_time\n",
    "\n",
    "            data = {\n",
    "                \"sprekerID\": speaker_ids,\n",
    "                \"StartTijd\": start_times,\n",
    "                \"tijd\": durations,\n",
    "            }\n",
    "            df = pd.DataFrame(data)\n",
    "            df = df.drop_duplicates()\n",
    "            df.sort_values(by=[\"sprekerID\", \"StartTijd\"], inplace=True)\n",
    "            df.insert(0, \"Naam\", \"\")\n",
    "            df.to_excel(\n",
    "                f\"{BASE_PATH}/{meeting_type}/{year}/sheets/{dior.split()[0]}.xlsx\",\n",
    "                index=False,\n",
    "            )"
   ]
  }
 ],
 "metadata": {
  "kernelspec": {
   "display_name": "base",
   "language": "python",
   "name": "python3"
  },
  "language_info": {
   "codemirror_mode": {
    "name": "ipython",
    "version": 3
   },
   "file_extension": ".py",
   "mimetype": "text/x-python",
   "name": "python",
   "nbconvert_exporter": "python",
   "pygments_lexer": "ipython3",
   "version": "3.11.8"
  }
 },
 "nbformat": 4,
 "nbformat_minor": 2
}
