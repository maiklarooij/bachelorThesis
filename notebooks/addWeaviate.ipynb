{
 "cells": [
  {
   "cell_type": "code",
   "execution_count": null,
   "metadata": {},
   "outputs": [],
   "source": [
    "import json\n",
    "import os\n",
    "import requests"
   ]
  },
  {
   "cell_type": "code",
   "execution_count": null,
   "metadata": {},
   "outputs": [],
   "source": [
    "HOST = \"http://127.0.0.1\"\n",
    "PORT = \"3090\"\n",
    "\n",
    "WEAVIATE_ENDPOINT = f\"{HOST}:{PORT}/api/weaviate\"\n",
    "BASE_PATH = \"data/haarlem\""
   ]
  },
  {
   "cell_type": "code",
   "execution_count": null,
   "metadata": {},
   "outputs": [],
   "source": [
    "def create_transcript_collection():\n",
    "    requests.post(\n",
    "        f\"{WEAVIATE_ENDPOINT}/createCollection\",\n",
    "        json={\n",
    "            \"name\": \"transcripts\",\n",
    "            \"vector_index_hnsw\": True,\n",
    "            \"distance_config\": \"cosine\",\n",
    "            \"properties\": [\n",
    "                {\"name\": \"text\", \"data_type\": \"text\"},\n",
    "                {\"name\": \"bmContext\", \"data_type\": \"text\"},\n",
    "                {\"name\": \"start\", \"data_type\": \"number\"},\n",
    "                {\"name\": \"end\", \"data_type\": \"number\"},\n",
    "                {\"name\": \"code\", \"data_type\": \"text\"},\n",
    "                {\"name\": \"year\", \"data_type\": \"text\"},\n",
    "                {\"name\": \"government\", \"data_type\": \"text\"},\n",
    "            ],\n",
    "        },\n",
    "    )\n",
    "\n",
    "\n",
    "def create_diorization_collection():\n",
    "    requests.post(\n",
    "        f\"{WEAVIATE_ENDPOINT}/createCollection\",\n",
    "        json={\n",
    "            \"name\": \"diorizations\",\n",
    "            \"vector_index_hnsw\": True,\n",
    "            \"distance_config\": \"cosine\",\n",
    "            \"properties\": [\n",
    "                {\"name\": \"startEnds\", \"data_type\": \"objectList\"},\n",
    "                {\"name\": \"code\", \"data_type\": \"text\"},\n",
    "                {\"name\": \"year\", \"data_type\": \"text\"},\n",
    "                {\"name\": \"government\", \"data_type\": \"text\"},\n",
    "            ],\n",
    "        },\n",
    "    )\n",
    "\n",
    "\n",
    "# create_transcript_collection()\n",
    "create_diorization_collection()"
   ]
  },
  {
   "cell_type": "code",
   "execution_count": null,
   "metadata": {},
   "outputs": [],
   "source": [
    "def add_transcripts():\n",
    "    for year in os.listdir(BASE_PATH):\n",
    "        if not os.path.isdir(f\"{BASE_PATH}/{year}\") or not os.path.isdir(\n",
    "            f\"{BASE_PATH}/{year}/objects\"\n",
    "        ):\n",
    "            continue\n",
    "        print(\"Doing\", year)\n",
    "        for meeting in os.listdir(f\"{BASE_PATH}/{year}/objects\"):\n",
    "            if not meeting.endswith(\".json\"):\n",
    "                continue\n",
    "            with open(f\"{BASE_PATH}/{year}/objects/{meeting}\", \"r\") as f:\n",
    "                objects = json.load(f)\n",
    "                requests.post(\n",
    "                    f\"{WEAVIATE_ENDPOINT}/insert\",\n",
    "                    json={\n",
    "                        \"collection\": \"transcripts\",\n",
    "                        \"objects\": objects,\n",
    "                    },\n",
    "                )\n",
    "\n",
    "add_transcripts()"
   ]
  },
  {
   "cell_type": "code",
   "execution_count": null,
   "metadata": {},
   "outputs": [],
   "source": [
    "def add_diorizations():\n",
    "    for year in os.listdir(BASE_PATH):\n",
    "        if not os.path.isdir(f\"{BASE_PATH}/year\") or not os.path.isdir(\n",
    "            f\"{BASE_PATH}/year/DiorizationObjects\"\n",
    "        ):\n",
    "            continue\n",
    "        for meeting in os.listdir(f\"{BASE_PATH}/year/DiorizationObjects\"):\n",
    "            if not meeting.endswith(\".json\"):\n",
    "                continue\n",
    "            with open(f\"{BASE_PATH}/year/DiorizationObjects/{meeting}\", \"r\") as f:\n",
    "                objects = json.load(f)\n",
    "                requests.post(\n",
    "                    f\"{WEAVIATE_ENDPOINT}/insert\",\n",
    "                    json={\n",
    "                        \"collection\": \"diorizations\",\n",
    "                        \"objects\": objects,\n",
    "                    },\n",
    "                )"
   ]
  },
  {
   "cell_type": "code",
   "execution_count": null,
   "metadata": {},
   "outputs": [],
   "source": []
  }
 ],
 "metadata": {
  "kernelspec": {
   "display_name": "base",
   "language": "python",
   "name": "python3"
  },
  "language_info": {
   "codemirror_mode": {
    "name": "ipython",
    "version": 3
   },
   "file_extension": ".py",
   "mimetype": "text/x-python",
   "name": "python",
   "nbconvert_exporter": "python",
   "pygments_lexer": "ipython3",
   "version": "3.11.8"
  }
 },
 "nbformat": 4,
 "nbformat_minor": 2
}
