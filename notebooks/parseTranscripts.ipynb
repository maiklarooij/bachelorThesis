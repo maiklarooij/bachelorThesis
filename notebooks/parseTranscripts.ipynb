{
 "cells": [
  {
   "cell_type": "code",
   "execution_count": null,
   "metadata": {},
   "outputs": [],
   "source": [
    "import os\n",
    "import json\n",
    "import requests"
   ]
  },
  {
   "cell_type": "code",
   "execution_count": null,
   "metadata": {},
   "outputs": [],
   "source": [
    "HOST = \"http://127.0.0.1\"\n",
    "PORT = \"3009\"\n",
    "\n",
    "TRANSCRIBE_ENDPOINT = f\"{HOST}:{PORT}/api\""
   ]
  },
  {
   "cell_type": "code",
   "execution_count": null,
   "metadata": {},
   "outputs": [],
   "source": [
    "def embed_text(text):\n",
    "    r = requests.post(f\"{TRANSCRIBE_ENDPOINT}/embed\", json={\"text\": [text]})\n",
    "    if r.status_code != 200:\n",
    "        raise Exception(\"Error embedding\")\n",
    "\n",
    "    return r.json()[\"embeddings\"]\n"
   ]
  },
  {
   "cell_type": "code",
   "execution_count": null,
   "metadata": {},
   "outputs": [],
   "source": [
    "def get_bm25_context(complete_text, substring):\n",
    "    index = complete_text.find(substring)\n",
    "    if index == -1:\n",
    "        return \"\"\n",
    "\n",
    "    end_index = min(len(complete_text), index + len(substring) + 1000)\n",
    "\n",
    "    return complete_text[index:end_index]"
   ]
  },
  {
   "cell_type": "code",
   "execution_count": null,
   "metadata": {},
   "outputs": [],
   "source": [
    "def get_objects(file_path, year, government):\n",
    "    objects = []\n",
    "    with open(file_path, \"r\") as f:\n",
    "        whisper_output = json.load(f)\n",
    "        if whisper_output.get(\"segments\") is None:\n",
    "            raise Exception(\"Whisper file has no segments\")\n",
    "\n",
    "        complete_text = whisper_output.get(\"text\")\n",
    "\n",
    "        for segment in whisper_output.get(\"segments\"):\n",
    "            start = segment.get(\"start\")\n",
    "            end = segment.get(\"end\")\n",
    "            text = segment.get(\"text\")\n",
    "            if len(text) < 10:\n",
    "                # print(\"skipping\", text)\n",
    "                continue\n",
    "            bm_context = get_bm25_context(complete_text, text)\n",
    "            # Text snippets can be embedded in bulk for a speed up, but at the moment this is not that important.\n",
    "            vector = embed_text(text.replace(\"...\", \"\"))[0]\n",
    "            code = file_path.split(\"/\")[-1].split(\".\")[0]\n",
    "\n",
    "            objects.append(\n",
    "                {\n",
    "                    \"object\": {\n",
    "                        \"text\": text,\n",
    "                        \"bmContext\": bm_context,\n",
    "                        \"start\": round(start, 2),\n",
    "                        \"end\": round(end, 2),\n",
    "                        \"code\": code,\n",
    "                        \"year\": year,\n",
    "                        \"government\": government,\n",
    "                    },\n",
    "                    \"vector\": vector,\n",
    "                }\n",
    "            )\n",
    "\n",
    "    return objects"
   ]
  },
  {
   "cell_type": "code",
   "execution_count": null,
   "metadata": {},
   "outputs": [],
   "source": [
    "BASE_PATH_INIT = \"data/nijmegen\"\n",
    "\n",
    "for category in os.listdir(BASE_PATH_INIT):\n",
    "    if category.startswith(\".\"):\n",
    "        continue\n",
    "    BASE_PATH = f\"{BASE_PATH_INIT}/{category}\"\n",
    "    for year in os.listdir(BASE_PATH):\n",
    "        print(f\"Doing category {category}, year {year}\")\n",
    "        if year == \".DS_Store\":\n",
    "            continue\n",
    "\n",
    "        if not os.path.isdir(f\"{BASE_PATH}/{year}/transcripts\"):\n",
    "            continue\n",
    "\n",
    "        if not os.path.isdir(f\"{BASE_PATH}/{year}/objects\"):\n",
    "            os.mkdir(f\"{BASE_PATH}/{year}/objects\")\n",
    "\n",
    "        for transcript in os.listdir(f\"{BASE_PATH}/{year}/transcripts\"):\n",
    "            if transcript == \".DS_Store\":\n",
    "                continue\n",
    "\n",
    "            input_path = os.path.abspath(f\"{BASE_PATH}/{year}/transcripts/{transcript}\")\n",
    "            output_path = f\"{BASE_PATH}/{year}/objects/{transcript}\"\n",
    "            if not os.path.isfile(input_path):\n",
    "                continue\n",
    "            if os.path.isfile(output_path):\n",
    "                print(\"Already did\", output_path)\n",
    "                continue\n",
    "\n",
    "            objects = get_objects(input_path, year, \"haarlem\")\n",
    "            with open(output_path, \"w\") as f:\n",
    "                json.dump(objects, f)\n",
    "\n",
    "            print(\"did\", input_path)"
   ]
  }
 ],
 "metadata": {
  "kernelspec": {
   "display_name": "base",
   "language": "python",
   "name": "python3"
  },
  "language_info": {
   "codemirror_mode": {
    "name": "ipython",
    "version": 3
   },
   "file_extension": ".py",
   "mimetype": "text/x-python",
   "name": "python",
   "nbconvert_exporter": "python",
   "pygments_lexer": "ipython3",
   "version": "3.11.8"
  }
 },
 "nbformat": 4,
 "nbformat_minor": 2
}
