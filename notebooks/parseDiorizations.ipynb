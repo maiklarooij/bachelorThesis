{
 "cells": [
  {
   "cell_type": "code",
   "execution_count": 1,
   "metadata": {},
   "outputs": [],
   "source": [
    "import os\n",
    "import json\n",
    "import requests\n",
    "import numpy as np"
   ]
  },
  {
   "cell_type": "code",
   "execution_count": null,
   "metadata": {},
   "outputs": [],
   "source": [
    "HOST = \"http://127.0.0.1\"\n",
    "PORT = \"3009\"\n",
    "\n",
    "TRANSCRIBE_ENDPOINT = f\"{HOST}:{PORT}/api\""
   ]
  },
  {
   "cell_type": "code",
   "execution_count": null,
   "metadata": {},
   "outputs": [],
   "source": [
    "def embed_voice(input_path, from_time, to_time):\n",
    "    body = {\n",
    "        \"input_path\": input_path,\n",
    "        \"output_path\": None,\n",
    "        \"from_time\": from_time,\n",
    "        \"to_time\": to_time,\n",
    "    }\n",
    "    r = requests.post(f\"{TRANSCRIBE_ENDPOINT}/pyannote/embed\", json=body)\n",
    "    if r.status_code != 200:\n",
    "        raise Exception(\"Error embedding\")\n",
    "\n",
    "    return r.json()[\"embedding\"]"
   ]
  },
  {
   "cell_type": "code",
   "execution_count": null,
   "metadata": {},
   "outputs": [],
   "source": [
    "def average_list(lists):\n",
    "    num_lists = len(lists)\n",
    "    list_length = len(lists[0])\n",
    "    sum_list = [0] * list_length\n",
    "    for lst in lists:\n",
    "        sum_list = [sum(x) for x in zip(sum_list, lst)]\n",
    "    average_list = [x / num_lists for x in sum_list]\n",
    "\n",
    "    return average_list"
   ]
  },
  {
   "cell_type": "code",
   "execution_count": null,
   "metadata": {},
   "outputs": [],
   "source": [
    "def get_DiorizationObjects(file_path, year, government):\n",
    "    speakers = {}\n",
    "    objects = []\n",
    "    with open(file_path, \"r\") as f:\n",
    "        # Get all speakers and their speaker times\n",
    "        for line in f:\n",
    "            splitted_line = line.split(\" \")\n",
    "            speaker = splitted_line[7]\n",
    "            if not speakers.get(speaker):\n",
    "                speakers[speaker] = []\n",
    "            speakers[speaker].append(\n",
    "                {\n",
    "                    \"start\": splitted_line[3],\n",
    "                    \"end\": splitted_line[3] + splitted_line[4],\n",
    "                }\n",
    "            )\n",
    "\n",
    "    for speaker in speakers:\n",
    "        vectors = []\n",
    "        for i, time in enumerate(speakers[speaker]):\n",
    "            if i > 5:\n",
    "                break\n",
    "            vector = embed_voice(PATH, time[\"start\"], time[\"end\"])\n",
    "            vectors.append(vector)\n",
    "\n",
    "        avg_vector = average_list(vectors)\n",
    "        code = file_path.split(\"/\")[-1].split(\".\")[0]\n",
    "\n",
    "        objects.append(\n",
    "            {\n",
    "                \"object\": {\n",
    "                    \"startEnds\": speakers[speaker],\n",
    "                    \"code\": code,\n",
    "                    \"year\": year,\n",
    "                    \"government\": government,\n",
    "                },\n",
    "                \"vector\": avg_vector,\n",
    "            }\n",
    "        )\n",
    "\n",
    "    return objects"
   ]
  },
  {
   "cell_type": "code",
   "execution_count": null,
   "metadata": {},
   "outputs": [],
   "source": [
    "BASE_PATH = \"data/haarlem\"\n",
    "\n",
    "for year in os.listdir(BASE_PATH):\n",
    "    print(f\"Doing year {year}\")\n",
    "    if year == \".DS_Store\":\n",
    "        continue\n",
    "\n",
    "    if not os.path.isdir(f\"{BASE_PATH}/{year}/diorizations\"):\n",
    "        continue\n",
    "\n",
    "    if not os.path.isdir(f\"{BASE_PATH}/{year}/DiorizationObjects\"):\n",
    "        os.mkdir(f\"{BASE_PATH}/{year}/DiorizationObjects\")\n",
    "\n",
    "    for diorization in os.listdir(f\"{BASE_PATH}/{year}/diorizations\"):\n",
    "        if diorization == \".DS_Store\":\n",
    "            continue\n",
    "\n",
    "        input_path = os.path.abspath(f\"{BASE_PATH}/{year}/diorizations/{diorization}\")\n",
    "        output_path = f\"{BASE_PATH}/{year}/DiorizationObjects/{diorization}\"\n",
    "        if not os.path.isfile(input_path):\n",
    "            continue\n",
    "        if os.path.isfile(output_path):\n",
    "            print(\"Already did\", output_path)\n",
    "            continue\n",
    "\n",
    "        diorization_bjects = get_DiorizationObjects(input_path, year, \"haarlem\")\n",
    "        with open(output_path, \"w\") as f:\n",
    "            json.dump(diorization_bjects, f)\n",
    "\n",
    "        print(\"did\", input_path)"
   ]
  }
 ],
 "metadata": {
  "kernelspec": {
   "display_name": "base",
   "language": "python",
   "name": "python3"
  },
  "language_info": {
   "codemirror_mode": {
    "name": "ipython",
    "version": 3
   },
   "file_extension": ".py",
   "mimetype": "text/x-python",
   "name": "python",
   "nbconvert_exporter": "python",
   "pygments_lexer": "ipython3",
   "version": "3.11.8"
  }
 },
 "nbformat": 4,
 "nbformat_minor": 2
}
