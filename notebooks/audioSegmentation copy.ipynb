{
 "cells": [
  {
   "cell_type": "code",
   "execution_count": null,
   "metadata": {},
   "outputs": [],
   "source": [
    "import os\n",
    "import requests"
   ]
  },
  {
   "cell_type": "code",
   "execution_count": null,
   "metadata": {},
   "outputs": [],
   "source": [
    "HOST = \"http://127.0.0.1\"\n",
    "PORT = \"3013\"\n",
    "\n",
    "TRANSCRIBE_ENDPOINT = f\"{HOST}:{PORT}/api/pyannote/diorize\""
   ]
  },
  {
   "cell_type": "code",
   "execution_count": null,
   "metadata": {},
   "outputs": [],
   "source": [
    "def diorize(input_path, output_path):\n",
    "    body = {\"input_path\": input_path, \"output_path\": output_path}\n",
    "    r = requests.post(TRANSCRIBE_ENDPOINT, json=body)\n",
    "    if r.status_code != 200:\n",
    "        print(f\"{input_path} transcription failed: {r.status_code}\")"
   ]
  },
  {
   "cell_type": "code",
   "execution_count": null,
   "metadata": {},
   "outputs": [],
   "source": [
    "BASE_PATH = \"data/barendrecht/\"\n",
    "\n",
    "for year in os.listdir(BASE_PATH):\n",
    "    print(f\"Doing year {year}\")\n",
    "    if year.startswith(\".\") or (\n",
    "        not os.path.isdir(f\"{BASE_PATH}/{year}/videos\")\n",
    "        and not os.path.isdir(f\"{BASE_PATH}/{year}/audio\")\n",
    "    ):\n",
    "        continue\n",
    "\n",
    "    if not os.path.isdir(f\"{BASE_PATH}/{year}/diorizations\"):\n",
    "        os.mkdir(f\"{BASE_PATH}/{year}/diorizations\")\n",
    "\n",
    "    for audio in os.listdir(f\"{BASE_PATH}/{year}/audio\"):\n",
    "        if audio == \".DS_Store\":\n",
    "            continue\n",
    "        # Pyannote only accepts wav.\n",
    "        if audio.endswith(\".mp4\"):\n",
    "            continue\n",
    "        input_path = os.path.abspath(f\"{BASE_PATH}/{year}/audio/{audio}\")\n",
    "        if os.path.isfile(input_path):\n",
    "            output_path = os.path.abspath(\n",
    "                f\"{BASE_PATH}/{year}/diorizations/{audio}.rttm\"\n",
    "            )\n",
    "\n",
    "            if os.path.isfile(output_path):\n",
    "                print(f\"{input_path} already diorized\")\n",
    "                continue\n",
    "\n",
    "            print(f\"diorizing {input_path}\")\n",
    "            diorize(input_path, output_path)\n",
    "            exit()\n",
    "        else:\n",
    "            print(f\"{input_path} does not exist\")"
   ]
  }
 ],
 "metadata": {
  "kernelspec": {
   "display_name": "base",
   "language": "python",
   "name": "python3"
  },
  "language_info": {
   "codemirror_mode": {
    "name": "ipython",
    "version": 3
   },
   "file_extension": ".py",
   "mimetype": "text/x-python",
   "name": "python",
   "nbconvert_exporter": "python",
   "pygments_lexer": "ipython3",
   "version": "3.11.8"
  }
 },
 "nbformat": 4,
 "nbformat_minor": 2
}
