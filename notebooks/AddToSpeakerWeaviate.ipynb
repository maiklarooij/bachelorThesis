{
 "cells": [
  {
   "cell_type": "code",
   "execution_count": null,
   "metadata": {},
   "outputs": [],
   "source": [
    "import json\n",
    "import requests\n",
    "import pandas as pd"
   ]
  },
  {
   "cell_type": "code",
   "execution_count": null,
   "metadata": {},
   "outputs": [],
   "source": [
    "port = \"3012\"\n",
    "API_ENDPOINT = f\"http://localhost:{port}/api/weaviate\""
   ]
  },
  {
   "cell_type": "code",
   "execution_count": null,
   "metadata": {},
   "outputs": [],
   "source": [
    "def get_speaker_embedding(government, meeting_type, year, code, speakerID):\n",
    "    # path = f\"data/{government}/{meeting_type}/{year}/finalObjects/{code}.mp4.json\"\n",
    "    path = f\"data/{government}/{year}/finalObjects/{code}.mp4.json\"\n",
    "    with open(path, \"r\") as f:\n",
    "        data = json.load(f)\n",
    "\n",
    "    for d in data:\n",
    "        if d[\"object\"][\"speaker\"] == speakerID:\n",
    "            return d[\"vector\"][\"speaker\"]\n",
    "\n",
    "    # raise Exception(\"No speakerID found\")\n",
    "    print(f\"ERROR! Could not find speakerID in video {code}\")"
   ]
  },
  {
   "cell_type": "code",
   "execution_count": null,
   "metadata": {},
   "outputs": [],
   "source": [
    "def add_weaviate(government, name, embedding):\n",
    "    r = requests.post(\n",
    "        f\"{API_ENDPOINT}/insert\",\n",
    "        json={\n",
    "            \"collection\": \"Speakers\",\n",
    "            \"objects\": [\n",
    "                {\n",
    "                    \"object\": {\"government\": government, \"name\": name},\n",
    "                    \"vector\": embedding,\n",
    "                }\n",
    "            ],\n",
    "        },\n",
    "    )\n",
    "\n",
    "    if r.status_code != 200:\n",
    "        print(f\"ERROR INSERTING {name}!\")\n",
    "        return\n",
    "    print(f\"Inserted {name} in weaviate\")"
   ]
  },
  {
   "cell_type": "code",
   "execution_count": null,
   "metadata": {},
   "outputs": [],
   "source": [
    "def is_in_weaviate(embedding):\n",
    "    r = requests.post(f\"{API_ENDPOINT}/searchVector\", json={})\n",
    "\n",
    "    if r.status_code != 200:\n",
    "        print(\"ERROR LOOKING FOR SPEAKER!\")\n",
    "        return\n",
    "\n",
    "    print(r.json())\n",
    "    # TODO: Return true if found, false otherwise"
   ]
  },
  {
   "cell_type": "code",
   "execution_count": null,
   "metadata": {},
   "outputs": [],
   "source": [
    "def handle_file(government, meeting_type, year, path):\n",
    "    code = path.split(\"/\")[-1].split(\".\")[0]\n",
    "    data = pd.read_excel(path)\n",
    "    done = []\n",
    "    for index, row in data.iterrows():\n",
    "        name = row[\"Naam\"]\n",
    "        speakerID = row[\"sprekerID\"]\n",
    "        # If speaker is named\n",
    "        if not pd.isna(name) and speakerID not in done:\n",
    "            if name.strip().lower() == \"inspreker\":\n",
    "                continue\n",
    "            print(\n",
    "                f\"{path}, Row {index+1}: 'Naam' is not empty and its value is '{name}', '{speakerID}', {code}\"\n",
    "            )\n",
    "            embedding = get_speaker_embedding(\n",
    "                government, meeting_type, year, code, speakerID\n",
    "            )\n",
    "            add_weaviate(government, name, embedding)\n",
    "            done.append(speakerID)"
   ]
  },
  {
   "cell_type": "code",
   "execution_count": null,
   "metadata": {},
   "outputs": [],
   "source": [
    "annotated_files_2023_hoekschewaard = [\n",
    "    \"/Users/personal/Desktop/scriptie/notebooks/data/hoekschewaard/2023/sheets/1068470.wav.rttm.xlsx\",\n",
    "    \"/Users/personal/Desktop/scriptie/notebooks/data/hoekschewaard/2023/sheets/1068534.wav.rttm.xlsx\",\n",
    "    \"/Users/personal/Desktop/scriptie/notebooks/data/hoekschewaard/2023/sheets/1068543.wav.rttm.xlsx\",\n",
    "    \"/Users/personal/Desktop/scriptie/notebooks/data/hoekschewaard/2023/sheets/1109657.wav.rttm.xlsx\",\n",
    "]\n",
    "annotated_files_2024_hoekschewaard = [\n",
    "    \"/Users/personal/Desktop/scriptie/notebooks/data/hoekschewaard/2024/sheets/1178278.wav.rttm.xlsx\",\n",
    "    \"/Users/personal/Desktop/scriptie/notebooks/data/hoekschewaard/2024/sheets/1178261.wav.rttm.xlsx\",\n",
    "    \"/Users/personal/Desktop/scriptie/notebooks/data/hoekschewaard/2024/sheets/1192781.wav.rttm.xlsx\",\n",
    "]\n",
    "for path in annotated_files_2023_hoekschewaard:\n",
    "    handle_file(\"hoekschewaard\", \"vergadering\", \"2023\", path)\n",
    "for path in annotated_files_2024_hoekschewaard:\n",
    "    handle_file(\"hoekschewaard\", \"vergadering\", \"2024\", path)\n"
   ]
  },
  {
   "cell_type": "code",
   "execution_count": null,
   "metadata": {},
   "outputs": [],
   "source": [
    "annotated_files_2023_ridderkerk = [\n",
    "    \"/Users/personal/Desktop/scriptie/notebooks/data/ridderkerk/2023/sheets/1068434.wav.rttm.xlsx\",\n",
    "    \"/Users/personal/Desktop/scriptie/notebooks/data/ridderkerk/2023/sheets/1068445.wav.rttm.xlsx\",\n",
    "]\n",
    "annotated_files_2024_ridderkerk = [\n",
    "    \"/Users/personal/Desktop/scriptie/notebooks/data/ridderkerk/2024/sheets/1147151.wav.rttm.xlsx\",\n",
    "    \"/Users/personal/Desktop/scriptie/notebooks/data/ridderkerk/2024/sheets/1147158.wav.rttm.xlsx\",\n",
    "    \"/Users/personal/Desktop/scriptie/notebooks/data/ridderkerk/2024/sheets/1147176.wav.rttm.xlsx\",\n",
    "    \"/Users/personal/Desktop/scriptie/notebooks/data/ridderkerk/2024/sheets/1147208.wav.rttm.xlsx\",\n",
    "]\n",
    "for path in annotated_files_2023_ridderkerk:\n",
    "    handle_file(\"ridderkerk\", \"vergadering\", \"2023\", path)\n",
    "for path in annotated_files_2024_ridderkerk:\n",
    "    handle_file(\"ridderkerk\", \"vergadering\", \"2024\", path)"
   ]
  },
  {
   "cell_type": "code",
   "execution_count": null,
   "metadata": {},
   "outputs": [],
   "source": [
    "annotated_files_2023_barendrecht = [\n",
    "    \"/Users/personal/Desktop/scriptie/notebooks/data/barendrecht/2023/sheets/1094927.wav.rttm.xlsx\",\n",
    "    \"/Users/personal/Desktop/scriptie/notebooks/data/barendrecht/2023/sheets/1108841.wav.rttm.xlsx\",\n",
    "    \"/Users/personal/Desktop/scriptie/notebooks/data/barendrecht/2023/sheets/1115813.wav.rttm.xlsx\",\n",
    "]\n",
    "annotated_files_2024_barendrecht = [\n",
    "    \"/Users/personal/Desktop/scriptie/notebooks/data/barendrecht/2024/sheets/1195585.wav.rttm.xlsx\",\n",
    "    \"/Users/personal/Desktop/scriptie/notebooks/data/barendrecht/2024/sheets/1203464.wav.rttm.xlsx\",\n",
    "    \"/Users/personal/Desktop/scriptie/notebooks/data/barendrecht/2024/sheets/1203469.wav.rttm.xlsx\",\n",
    "    \"/Users/personal/Desktop/scriptie/notebooks/data/barendrecht/2024/sheets/1223517.wav.rttm.xlsx\",\n",
    "]\n",
    "for path in annotated_files_2023_barendrecht:\n",
    "    handle_file(\"barendrecht\", \"vergadering\", \"2023\", path)\n",
    "for path in annotated_files_2024_barendrecht:\n",
    "    handle_file(\"barendrecht\", \"vergadering\", \"2024\", path)"
   ]
  }
 ],
 "metadata": {
  "kernelspec": {
   "display_name": "base",
   "language": "python",
   "name": "python3"
  },
  "language_info": {
   "codemirror_mode": {
    "name": "ipython",
    "version": 3
   },
   "file_extension": ".py",
   "mimetype": "text/x-python",
   "name": "python",
   "nbconvert_exporter": "python",
   "pygments_lexer": "ipython3",
   "version": "3.11.8"
  }
 },
 "nbformat": 4,
 "nbformat_minor": 2
}
