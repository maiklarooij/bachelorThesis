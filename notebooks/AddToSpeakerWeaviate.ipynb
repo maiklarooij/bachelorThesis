{
 "cells": [
  {
   "cell_type": "code",
   "execution_count": 37,
   "metadata": {},
   "outputs": [],
   "source": [
    "import json\n",
    "import requests\n",
    "import pandas as pd"
   ]
  },
  {
   "cell_type": "code",
   "execution_count": 38,
   "metadata": {},
   "outputs": [],
   "source": [
    "API_ENDPOINT = \"http://localhost:3001/api/weaviate\""
   ]
  },
  {
   "cell_type": "code",
   "execution_count": 39,
   "metadata": {},
   "outputs": [],
   "source": [
    "def get_speaker_embedding(government, meeting_type, year, code, speakerID):\n",
    "    path = f\"data/{government}/{meeting_type}/{year}/turnObjects/{code}.wav.json\"\n",
    "    with open(path, \"r\") as f:\n",
    "        data = json.load(f)\n",
    "\n",
    "    for d in data:\n",
    "        if d[\"object\"][\"speaker\"] == speakerID:\n",
    "            return d[\"vector\"]\n",
    "\n",
    "    print(f\"ERROR! Could not find speakerID in video {code}\")"
   ]
  },
  {
   "cell_type": "code",
   "execution_count": 40,
   "metadata": {},
   "outputs": [],
   "source": [
    "def add_weaviate(government, name, embedding):\n",
    "    r = requests.post(\n",
    "        f\"{API_ENDPOINT}/insert\",\n",
    "        json={\n",
    "            \"collection\": \"Speakers\",\n",
    "            \"objects\": [\n",
    "                {\n",
    "                    \"object\": {\"government\": government, \"name\": name},\n",
    "                    \"vector\": embedding,\n",
    "                }\n",
    "            ],\n",
    "        },\n",
    "    )\n",
    "\n",
    "    if r.status_code != 200:\n",
    "        print(f\"ERROR INSERTING {name}!\")\n",
    "        return\n",
    "    print(f\"Inserted {name} in weaviate\")"
   ]
  },
  {
   "cell_type": "code",
   "execution_count": 41,
   "metadata": {},
   "outputs": [],
   "source": [
    "def is_in_weaviate(embedding):\n",
    "    r = requests.post(f\"{API_ENDPOINT}/searchVector\", json={})\n",
    "\n",
    "    if r.status_code != 200:\n",
    "        print(\"ERROR LOOKING FOR SPEAKER!\")\n",
    "        return\n",
    "\n",
    "    print(r.json())\n",
    "    # TODO: Return true if found, false otherwise"
   ]
  },
  {
   "cell_type": "code",
   "execution_count": 42,
   "metadata": {},
   "outputs": [],
   "source": [
    "def handle_file(government, meeting_type, year, path):\n",
    "    code = path.split(\"/\")[-1].split(\".\")[0]\n",
    "    data = pd.read_excel(path)\n",
    "    done = []\n",
    "    for index, row in data.iterrows():\n",
    "        name = row[\"Naam\"]\n",
    "        speakerID = row[\"sprekerID\"]\n",
    "        # If speaker is named\n",
    "        if not pd.isna(name) and speakerID not in done:\n",
    "            if name.strip().lower() == \"inspreker\":\n",
    "                continue\n",
    "            print(\n",
    "                f\"Row {index+1}: 'Naam' is not empty and its value is '{name}', '{speakerID}', {code}\"\n",
    "            )\n",
    "            embedding = get_speaker_embedding(government, meeting_type, year, code, speakerID)\n",
    "            add_weaviate(government, name, embedding)\n",
    "            done.append(speakerID)\n"
   ]
  },
  {
   "cell_type": "code",
   "execution_count": 43,
   "metadata": {},
   "outputs": [
    {
     "name": "stdout",
     "output_type": "stream",
     "text": [
      "Row 3: 'Naam' is not empty and its value is 'Inspreker ', 'SPEAKER_01', 1068470\n"
     ]
    },
    {
     "ename": "FileNotFoundError",
     "evalue": "[Errno 2] No such file or directory: 'data/hoekschewaard/vergadering/2023/turnObjects/1068470.wav.json'",
     "output_type": "error",
     "traceback": [
      "\u001b[0;31m---------------------------------------------------------------------------\u001b[0m",
      "\u001b[0;31mFileNotFoundError\u001b[0m                         Traceback (most recent call last)",
      "\u001b[1;32m/Users/personal/Desktop/scriptie/notebooks/AddToSpeakerWeaviate.ipynb Cell 7\u001b[0m line \u001b[0;36m1\n\u001b[1;32m      <a href='vscode-notebook-cell:/Users/personal/Desktop/scriptie/notebooks/AddToSpeakerWeaviate.ipynb#W2sZmlsZQ%3D%3D?line=6'>7</a>\u001b[0m annotated_files_2024 \u001b[39m=\u001b[39m [\n\u001b[1;32m      <a href='vscode-notebook-cell:/Users/personal/Desktop/scriptie/notebooks/AddToSpeakerWeaviate.ipynb#W2sZmlsZQ%3D%3D?line=7'>8</a>\u001b[0m     \u001b[39m\"\u001b[39m\u001b[39m/Users/personal/Desktop/scriptie/notebooks/data/hoekschewaard/2024/sheets/1178278.wav.rttm.xlsx\u001b[39m\u001b[39m\"\u001b[39m,\n\u001b[1;32m      <a href='vscode-notebook-cell:/Users/personal/Desktop/scriptie/notebooks/AddToSpeakerWeaviate.ipynb#W2sZmlsZQ%3D%3D?line=8'>9</a>\u001b[0m     \u001b[39m\"\u001b[39m\u001b[39m/Users/personal/Desktop/scriptie/notebooks/data/hoekschewaard/2024/sheets/1178261.wav.rttm.xlsx\u001b[39m\u001b[39m\"\u001b[39m,\n\u001b[1;32m     <a href='vscode-notebook-cell:/Users/personal/Desktop/scriptie/notebooks/AddToSpeakerWeaviate.ipynb#W2sZmlsZQ%3D%3D?line=9'>10</a>\u001b[0m     \u001b[39m\"\u001b[39m\u001b[39m/Users/personal/Desktop/scriptie/notebooks/data/hoekschewaard/2024/sheets/1192781.wav.rttm.xlsx\u001b[39m\u001b[39m\"\u001b[39m,\n\u001b[1;32m     <a href='vscode-notebook-cell:/Users/personal/Desktop/scriptie/notebooks/AddToSpeakerWeaviate.ipynb#W2sZmlsZQ%3D%3D?line=10'>11</a>\u001b[0m ]\n\u001b[1;32m     <a href='vscode-notebook-cell:/Users/personal/Desktop/scriptie/notebooks/AddToSpeakerWeaviate.ipynb#W2sZmlsZQ%3D%3D?line=11'>12</a>\u001b[0m \u001b[39mfor\u001b[39;00m path \u001b[39min\u001b[39;00m annotated_files_2023:\n\u001b[0;32m---> <a href='vscode-notebook-cell:/Users/personal/Desktop/scriptie/notebooks/AddToSpeakerWeaviate.ipynb#W2sZmlsZQ%3D%3D?line=12'>13</a>\u001b[0m     handle_file(\u001b[39m\"\u001b[39;49m\u001b[39mhoekschewaard\u001b[39;49m\u001b[39m\"\u001b[39;49m, \u001b[39m\"\u001b[39;49m\u001b[39mvergadering\u001b[39;49m\u001b[39m\"\u001b[39;49m, \u001b[39m\"\u001b[39;49m\u001b[39m2023\u001b[39;49m\u001b[39m\"\u001b[39;49m, path)\n",
      "\u001b[1;32m/Users/personal/Desktop/scriptie/notebooks/AddToSpeakerWeaviate.ipynb Cell 7\u001b[0m line \u001b[0;36m1\n\u001b[1;32m     <a href='vscode-notebook-cell:/Users/personal/Desktop/scriptie/notebooks/AddToSpeakerWeaviate.ipynb#W2sZmlsZQ%3D%3D?line=10'>11</a>\u001b[0m     \u001b[39mcontinue\u001b[39;00m\n\u001b[1;32m     <a href='vscode-notebook-cell:/Users/personal/Desktop/scriptie/notebooks/AddToSpeakerWeaviate.ipynb#W2sZmlsZQ%3D%3D?line=11'>12</a>\u001b[0m \u001b[39mprint\u001b[39m(\n\u001b[1;32m     <a href='vscode-notebook-cell:/Users/personal/Desktop/scriptie/notebooks/AddToSpeakerWeaviate.ipynb#W2sZmlsZQ%3D%3D?line=12'>13</a>\u001b[0m     \u001b[39mf\u001b[39m\u001b[39m\"\u001b[39m\u001b[39mRow \u001b[39m\u001b[39m{\u001b[39;00mindex\u001b[39m+\u001b[39m\u001b[39m1\u001b[39m\u001b[39m}\u001b[39;00m\u001b[39m: \u001b[39m\u001b[39m'\u001b[39m\u001b[39mNaam\u001b[39m\u001b[39m'\u001b[39m\u001b[39m is not empty and its value is \u001b[39m\u001b[39m'\u001b[39m\u001b[39m{\u001b[39;00mname\u001b[39m}\u001b[39;00m\u001b[39m'\u001b[39m\u001b[39m, \u001b[39m\u001b[39m'\u001b[39m\u001b[39m{\u001b[39;00mspeakerID\u001b[39m}\u001b[39;00m\u001b[39m'\u001b[39m\u001b[39m, \u001b[39m\u001b[39m{\u001b[39;00mcode\u001b[39m}\u001b[39;00m\u001b[39m\"\u001b[39m\n\u001b[1;32m     <a href='vscode-notebook-cell:/Users/personal/Desktop/scriptie/notebooks/AddToSpeakerWeaviate.ipynb#W2sZmlsZQ%3D%3D?line=13'>14</a>\u001b[0m )\n\u001b[0;32m---> <a href='vscode-notebook-cell:/Users/personal/Desktop/scriptie/notebooks/AddToSpeakerWeaviate.ipynb#W2sZmlsZQ%3D%3D?line=14'>15</a>\u001b[0m embedding \u001b[39m=\u001b[39m get_speaker_embedding(government, meeting_type, year, code, speakerID)\n\u001b[1;32m     <a href='vscode-notebook-cell:/Users/personal/Desktop/scriptie/notebooks/AddToSpeakerWeaviate.ipynb#W2sZmlsZQ%3D%3D?line=15'>16</a>\u001b[0m add_weaviate(government, name, embedding)\n\u001b[1;32m     <a href='vscode-notebook-cell:/Users/personal/Desktop/scriptie/notebooks/AddToSpeakerWeaviate.ipynb#W2sZmlsZQ%3D%3D?line=16'>17</a>\u001b[0m done\u001b[39m.\u001b[39mappend(speakerID)\n",
      "\u001b[1;32m/Users/personal/Desktop/scriptie/notebooks/AddToSpeakerWeaviate.ipynb Cell 7\u001b[0m line \u001b[0;36m3\n\u001b[1;32m      <a href='vscode-notebook-cell:/Users/personal/Desktop/scriptie/notebooks/AddToSpeakerWeaviate.ipynb#W2sZmlsZQ%3D%3D?line=0'>1</a>\u001b[0m \u001b[39mdef\u001b[39;00m \u001b[39mget_speaker_embedding\u001b[39m(government, meeting_type, year, code, speakerID):\n\u001b[1;32m      <a href='vscode-notebook-cell:/Users/personal/Desktop/scriptie/notebooks/AddToSpeakerWeaviate.ipynb#W2sZmlsZQ%3D%3D?line=1'>2</a>\u001b[0m     path \u001b[39m=\u001b[39m \u001b[39mf\u001b[39m\u001b[39m\"\u001b[39m\u001b[39mdata/\u001b[39m\u001b[39m{\u001b[39;00mgovernment\u001b[39m}\u001b[39;00m\u001b[39m/\u001b[39m\u001b[39m{\u001b[39;00mmeeting_type\u001b[39m}\u001b[39;00m\u001b[39m/\u001b[39m\u001b[39m{\u001b[39;00myear\u001b[39m}\u001b[39;00m\u001b[39m/turnObjects/\u001b[39m\u001b[39m{\u001b[39;00mcode\u001b[39m}\u001b[39;00m\u001b[39m.wav.json\u001b[39m\u001b[39m\"\u001b[39m\n\u001b[0;32m----> <a href='vscode-notebook-cell:/Users/personal/Desktop/scriptie/notebooks/AddToSpeakerWeaviate.ipynb#W2sZmlsZQ%3D%3D?line=2'>3</a>\u001b[0m     \u001b[39mwith\u001b[39;00m \u001b[39mopen\u001b[39;49m(path, \u001b[39m\"\u001b[39;49m\u001b[39mr\u001b[39;49m\u001b[39m\"\u001b[39;49m) \u001b[39mas\u001b[39;00m f:\n\u001b[1;32m      <a href='vscode-notebook-cell:/Users/personal/Desktop/scriptie/notebooks/AddToSpeakerWeaviate.ipynb#W2sZmlsZQ%3D%3D?line=3'>4</a>\u001b[0m         data \u001b[39m=\u001b[39m json\u001b[39m.\u001b[39mload(f)\n\u001b[1;32m      <a href='vscode-notebook-cell:/Users/personal/Desktop/scriptie/notebooks/AddToSpeakerWeaviate.ipynb#W2sZmlsZQ%3D%3D?line=5'>6</a>\u001b[0m     \u001b[39mfor\u001b[39;00m d \u001b[39min\u001b[39;00m data:\n",
      "File \u001b[0;32m~/miniconda3/lib/python3.11/site-packages/IPython/core/interactiveshell.py:284\u001b[0m, in \u001b[0;36m_modified_open\u001b[0;34m(file, *args, **kwargs)\u001b[0m\n\u001b[1;32m    277\u001b[0m \u001b[39mif\u001b[39;00m file \u001b[39min\u001b[39;00m {\u001b[39m0\u001b[39m, \u001b[39m1\u001b[39m, \u001b[39m2\u001b[39m}:\n\u001b[1;32m    278\u001b[0m     \u001b[39mraise\u001b[39;00m \u001b[39mValueError\u001b[39;00m(\n\u001b[1;32m    279\u001b[0m         \u001b[39mf\u001b[39m\u001b[39m\"\u001b[39m\u001b[39mIPython won\u001b[39m\u001b[39m'\u001b[39m\u001b[39mt let you open fd=\u001b[39m\u001b[39m{\u001b[39;00mfile\u001b[39m}\u001b[39;00m\u001b[39m by default \u001b[39m\u001b[39m\"\u001b[39m\n\u001b[1;32m    280\u001b[0m         \u001b[39m\"\u001b[39m\u001b[39mas it is likely to crash IPython. If you know what you are doing, \u001b[39m\u001b[39m\"\u001b[39m\n\u001b[1;32m    281\u001b[0m         \u001b[39m\"\u001b[39m\u001b[39myou can use builtins\u001b[39m\u001b[39m'\u001b[39m\u001b[39m open.\u001b[39m\u001b[39m\"\u001b[39m\n\u001b[1;32m    282\u001b[0m     )\n\u001b[0;32m--> 284\u001b[0m \u001b[39mreturn\u001b[39;00m io_open(file, \u001b[39m*\u001b[39;49margs, \u001b[39m*\u001b[39;49m\u001b[39m*\u001b[39;49mkwargs)\n",
      "\u001b[0;31mFileNotFoundError\u001b[0m: [Errno 2] No such file or directory: 'data/hoekschewaard/vergadering/2023/turnObjects/1068470.wav.json'"
     ]
    }
   ],
   "source": [
    "annotated_files_2023 = [\n",
    "    \"/Users/personal/Desktop/scriptie/notebooks/data/hoekschewaard/2023/sheets/1068470.wav.rttm.xlsx\",\n",
    "    \"/Users/personal/Desktop/scriptie/notebooks/data/hoekschewaard/2023/sheets/1068534.wav.rttm.xlsx\",\n",
    "    \"/Users/personal/Desktop/scriptie/notebooks/data/hoekschewaard/2023/sheets/1068543.wav.rttm.xlsx\",\n",
    "    \"/Users/personal/Desktop/scriptie/notebooks/data/hoekschewaard/2023/sheets/1109657.wav.rttm.xlsx\",\n",
    "]\n",
    "annotated_files_2024 = [\n",
    "    \"/Users/personal/Desktop/scriptie/notebooks/data/hoekschewaard/2024/sheets/1178278.wav.rttm.xlsx\",\n",
    "    \"/Users/personal/Desktop/scriptie/notebooks/data/hoekschewaard/2024/sheets/1178261.wav.rttm.xlsx\",\n",
    "    \"/Users/personal/Desktop/scriptie/notebooks/data/hoekschewaard/2024/sheets/1192781.wav.rttm.xlsx\",\n",
    "]\n",
    "for path in annotated_files_2023:\n",
    "    handle_file(\"hoekschewaard\", \"vergadering\", \"2023\", path)"
   ]
  }
 ],
 "metadata": {
  "kernelspec": {
   "display_name": "base",
   "language": "python",
   "name": "python3"
  },
  "language_info": {
   "codemirror_mode": {
    "name": "ipython",
    "version": 3
   },
   "file_extension": ".py",
   "mimetype": "text/x-python",
   "name": "python",
   "nbconvert_exporter": "python",
   "pygments_lexer": "ipython3",
   "version": "3.11.8"
  }
 },
 "nbformat": 4,
 "nbformat_minor": 2
}
